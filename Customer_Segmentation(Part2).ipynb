{
  "cells": [
    {
      "cell_type": "markdown",
      "metadata": {
        "id": "OPZSP8QmteHB"
      },
      "source": [
        "# Business Problem with Customer Segmentation\n",
        "\n",
        "\n",
        "An e-commerce company wants to segment its customers and determine marketing strategies according to these segments.\n",
        "\n",
        "For this purpose, we will define the behavior of customers and we will form groups according to clustering.\n",
        "\n",
        "In other words, we will take those who exhibit common behaviors into the same groups and we will try to develop sales and marketing techniques specific to these groups.\n",
        "\n",
        "\n",
        "\n",
        "### Data Set Story:\n",
        "\n",
        "https://archive.ics.uci.edu/ml/datasets/Online+Retail+II\n",
        "\n",
        "This Online Retail II data set contains all the transactions occurring for a UK-based and registered, non-store online retail between 01/12/2009 and 09/12/2011.\n",
        "\n",
        "The company mainly sells unique all-occasion gift-ware. \n",
        "\n",
        "Many customers of the company are wholesalers.\n",
        "\n",
        "\n",
        "\n",
        "\n",
        "### Attribute Information:\n",
        "\n",
        "- InvoiceNo: Invoice number. Nominal. A 6-digit integral number uniquely assigned to each transaction. If this code starts with the letter 'c', it indicates a cancellation.\n",
        "- StockCode: Product (item) code. Nominal. A 5-digit integral number uniquely assigned to each distinct product.\n",
        "- Description: Product (item) name. Nominal.\n",
        "- Quantity: The quantities of each product (item) per transaction. Numeric.\n",
        "- InvoiceDate: Invice date and time. Numeric. The day and time when a transaction was generated.\n",
        "- UnitPrice: Unit price. Numeric. Product price per unit in sterling (Â£).\n",
        "- CustomerID: Customer number. Nominal. A 5-digit integral number uniquely assigned to each customer.\n",
        "- Country: Country name. Nominal. The name of the country where a customer resides.\n",
        "\n"
      ]
    },
    {
      "cell_type": "markdown",
      "metadata": {
        "id": "iA-aSFk7teHY"
      },
      "source": [
        "# Questions from data set\n",
        "\n",
        "\n",
        "All questions about 2009-2010 years\n",
        "\n",
        "1. What is the number of unique products?\n",
        "2. Which product do you have?\n",
        "3. Which product is the most ordered?\n",
        "4. How do we rank this output?\n",
        "5. How many invoices have been issued?\n",
        "6. How much money has been earned per invoice?\n",
        "7. Which are the most expensive products?\n",
        "8. How many orders came from which country?\n",
        "9. which country gained how much?\n",
        "10. which product is the most returned?\n",
        "11. What should we do for customer segmentation with RFM?\n",
        "12. Scoring for RFM.\n",
        "13. Finally, create an excel file named New Customer."
      ]
    },
    {
      "cell_type": "markdown",
      "metadata": {
        "id": "XDlzKq3OteHb"
      },
      "source": [
        "# Data Understanding "
      ]
    },
    {
      "cell_type": "code",
      "execution_count": null,
      "metadata": {
        "id": "oLkRMAkjteHe"
      },
      "outputs": [],
      "source": [
        "import pandas as pd\n",
        "import numpy as np\n",
        "import seaborn as sns\n",
        "\n",
        "# to display all columns and rows:\n",
        "pd.set_option('display.max_columns', None); pd.set_option('display.max_rows', None);\n"
      ]
    },
    {
      "cell_type": "markdown",
      "metadata": {
        "id": "7H9rux-2teHg"
      },
      "source": [
        "The number of numbers that will be shown after the comma. For variables such as 'price', the option below is replaced with 0 instead."
      ]
    },
    {
      "cell_type": "code",
      "execution_count": null,
      "metadata": {
        "id": "1SDl5AjoteHh"
      },
      "outputs": [],
      "source": [
        "pd.set_option('display.float_format', lambda x: '%.0f' % x)\n",
        "import matplotlib.pyplot as plt"
      ]
    },
    {
      "cell_type": "code",
      "execution_count": null,
      "metadata": {
        "id": "1tOWqxefteHj"
      },
      "outputs": [],
      "source": [
        "df_2009_2010 = pd.read_excel(\"../input/online-retail-ii-data-set-from-ml-repository/online_retail_II.xlsx\", sheet_name = \"Year 2009-2010\")"
      ]
    },
    {
      "cell_type": "code",
      "execution_count": null,
      "metadata": {
        "id": "9WG4RdyOteHk"
      },
      "outputs": [],
      "source": [
        "df = df_2009_2010.copy()"
      ]
    },
    {
      "cell_type": "markdown",
      "metadata": {
        "id": "k_3o8K5ZteL9"
      },
      "source": [
        "Try to understand the data by using the functions that can be used as a first look at the data in the pandas section."
      ]
    },
    {
      "cell_type": "markdown",
      "metadata": {
        "id": "WggpNpF0teMA"
      },
      "source": [
        "## 1. What is the number of unique products?"
      ]
    },
    {
      "cell_type": "code",
      "execution_count": null,
      "metadata": {
        "id": "8gZCQ5QhteMB",
        "outputId": "5149d961-f6bb-4566-a021-995c7763202d"
      },
      "outputs": [
        {
          "data": {
            "text/plain": [
              "4681"
            ]
          },
          "execution_count": 5,
          "metadata": {},
          "output_type": "execute_result"
        }
      ],
      "source": [
        "df[\"Description\"].nunique()"
      ]
    },
    {
      "cell_type": "markdown",
      "metadata": {
        "id": "drg-HPditeMG"
      },
      "source": [
        "## 2. Which product do you have?"
      ]
    },
    {
      "cell_type": "code",
      "execution_count": null,
      "metadata": {
        "id": "Gri82FRhteMH",
        "outputId": "199a16f9-a2ef-4ad6-8845-f36ecb5f8eae"
      },
      "outputs": [
        {
          "data": {
            "text/plain": [
              "WHITE HANGING HEART T-LIGHT HOLDER    3549\n",
              "REGENCY CAKESTAND 3 TIER              2212\n",
              "STRAWBERRY CERAMIC TRINKET BOX        1843\n",
              "PACK OF 72 RETRO SPOT CAKE CASES      1466\n",
              "ASSORTED COLOUR BIRD ORNAMENT         1457\n",
              "Name: Description, dtype: int64"
            ]
          },
          "execution_count": 6,
          "metadata": {},
          "output_type": "execute_result"
        }
      ],
      "source": [
        "df[\"Description\"].value_counts().head()"
      ]
    },
    {
      "cell_type": "markdown",
      "metadata": {
        "id": "m7FxBEgGteMJ"
      },
      "source": [
        "## 3. Which product is the most ordered?"
      ]
    },
    {
      "cell_type": "code",
      "execution_count": null,
      "metadata": {
        "id": "NllxQYa_teMJ",
        "outputId": "f6061c88-4f21-40f5-a081-26cdba99d9ed"
      },
      "outputs": [
        {
          "data": {
            "text/html": [
              "<div>\n",
              "<style scoped>\n",
              "    .dataframe tbody tr th:only-of-type {\n",
              "        vertical-align: middle;\n",
              "    }\n",
              "\n",
              "    .dataframe tbody tr th {\n",
              "        vertical-align: top;\n",
              "    }\n",
              "\n",
              "    .dataframe thead th {\n",
              "        text-align: right;\n",
              "    }\n",
              "</style>\n",
              "<table border=\"1\" class=\"dataframe\">\n",
              "  <thead>\n",
              "    <tr style=\"text-align: right;\">\n",
              "      <th></th>\n",
              "      <th>Quantity</th>\n",
              "    </tr>\n",
              "    <tr>\n",
              "      <th>Description</th>\n",
              "      <th></th>\n",
              "    </tr>\n",
              "  </thead>\n",
              "  <tbody>\n",
              "    <tr>\n",
              "      <th>21494</th>\n",
              "      <td>-720</td>\n",
              "    </tr>\n",
              "    <tr>\n",
              "      <th>22467</th>\n",
              "      <td>-2</td>\n",
              "    </tr>\n",
              "    <tr>\n",
              "      <th>22719</th>\n",
              "      <td>2</td>\n",
              "    </tr>\n",
              "    <tr>\n",
              "      <th>DOORMAT UNION JACK GUNS AND ROSES</th>\n",
              "      <td>179</td>\n",
              "    </tr>\n",
              "    <tr>\n",
              "      <th>3 STRIPEY MICE FELTCRAFT</th>\n",
              "      <td>690</td>\n",
              "    </tr>\n",
              "  </tbody>\n",
              "</table>\n",
              "</div>"
            ],
            "text/plain": [
              "                                     Quantity\n",
              "Description                                  \n",
              "21494                                    -720\n",
              "22467                                      -2\n",
              "22719                                       2\n",
              "  DOORMAT UNION JACK GUNS AND ROSES       179\n",
              " 3 STRIPEY MICE FELTCRAFT                 690"
            ]
          },
          "execution_count": 7,
          "metadata": {},
          "output_type": "execute_result"
        }
      ],
      "source": [
        "df.groupby(\"Description\").agg({\"Quantity\":\"sum\"}).head()"
      ]
    },
    {
      "cell_type": "markdown",
      "metadata": {
        "id": "w9A4iiEXteMK"
      },
      "source": [
        "## 4. How do we rank this output?"
      ]
    },
    {
      "cell_type": "code",
      "execution_count": null,
      "metadata": {
        "id": "RLkh1E5nteML",
        "outputId": "096bfdec-e5c4-4471-d412-cf845293821d",
        "colab": {
          "base_uri": "https://localhost:8080/",
          "height": 169
        }
      },
      "outputs": [
        {
          "output_type": "error",
          "ename": "NameError",
          "evalue": "ignored",
          "traceback": [
            "\u001b[0;31m---------------------------------------------------------------------------\u001b[0m",
            "\u001b[0;31mNameError\u001b[0m                                 Traceback (most recent call last)",
            "\u001b[0;32m<ipython-input-1-59ad763f0fff>\u001b[0m in \u001b[0;36m<module>\u001b[0;34m()\u001b[0m\n\u001b[0;32m----> 1\u001b[0;31m \u001b[0mdf\u001b[0m\u001b[0;34m.\u001b[0m\u001b[0mgroupby\u001b[0m\u001b[0;34m(\u001b[0m\u001b[0;34m\"Description\"\u001b[0m\u001b[0;34m)\u001b[0m\u001b[0;34m.\u001b[0m\u001b[0magg\u001b[0m\u001b[0;34m(\u001b[0m\u001b[0;34m{\u001b[0m\u001b[0;34m\"Quantity\"\u001b[0m\u001b[0;34m:\u001b[0m\u001b[0;34m\"sum\"\u001b[0m\u001b[0;34m}\u001b[0m\u001b[0;34m)\u001b[0m\u001b[0;34m.\u001b[0m\u001b[0msort_values\u001b[0m\u001b[0;34m(\u001b[0m\u001b[0;34m\"Quantity\"\u001b[0m\u001b[0;34m,\u001b[0m \u001b[0mascending\u001b[0m \u001b[0;34m=\u001b[0m \u001b[0;32mFalse\u001b[0m\u001b[0;34m)\u001b[0m\u001b[0;34m.\u001b[0m\u001b[0mhead\u001b[0m\u001b[0;34m(\u001b[0m\u001b[0;34m)\u001b[0m\u001b[0;34m\u001b[0m\u001b[0;34m\u001b[0m\u001b[0m\n\u001b[0m",
            "\u001b[0;31mNameError\u001b[0m: name 'df' is not defined"
          ]
        }
      ],
      "source": [
        "df.groupby(\"Description\").agg({\"Quantity\":\"sum\"}).sort_values(\"Quantity\", ascending = False).head()"
      ]
    },
    {
      "cell_type": "markdown",
      "metadata": {
        "id": "kBCjJmFFteMM"
      },
      "source": [
        "## 5. How many invoices have been issued?"
      ]
    },
    {
      "cell_type": "code",
      "execution_count": null,
      "metadata": {
        "id": "RIxtgCmOteMM",
        "outputId": "692bbc58-790a-4b4f-ad50-044056e893a2"
      },
      "outputs": [
        {
          "data": {
            "text/plain": [
              "28816"
            ]
          },
          "execution_count": 9,
          "metadata": {},
          "output_type": "execute_result"
        }
      ],
      "source": [
        "df[\"Invoice\"].nunique()"
      ]
    },
    {
      "cell_type": "markdown",
      "metadata": {
        "id": "cIRMjorJteMS"
      },
      "source": [
        "## 6. How much money has been earned per invoice?"
      ]
    },
    {
      "cell_type": "code",
      "execution_count": null,
      "metadata": {
        "id": "KuSvem0MteMT"
      },
      "outputs": [],
      "source": [
        "# it is necessary to create a new variable by multiplying two variables\n",
        "\n",
        "df[\"TotalPrice\"] = df[\"Quantity\"]*df[\"Price\"]"
      ]
    },
    {
      "cell_type": "code",
      "execution_count": null,
      "metadata": {
        "id": "owmtx9U0teMU",
        "outputId": "d78b3078-ccf4-4f83-be25-a326662cab2c"
      },
      "outputs": [
        {
          "data": {
            "text/html": [
              "<div>\n",
              "<style scoped>\n",
              "    .dataframe tbody tr th:only-of-type {\n",
              "        vertical-align: middle;\n",
              "    }\n",
              "\n",
              "    .dataframe tbody tr th {\n",
              "        vertical-align: top;\n",
              "    }\n",
              "\n",
              "    .dataframe thead th {\n",
              "        text-align: right;\n",
              "    }\n",
              "</style>\n",
              "<table border=\"1\" class=\"dataframe\">\n",
              "  <thead>\n",
              "    <tr style=\"text-align: right;\">\n",
              "      <th></th>\n",
              "      <th>Invoice</th>\n",
              "      <th>StockCode</th>\n",
              "      <th>Description</th>\n",
              "      <th>Quantity</th>\n",
              "      <th>InvoiceDate</th>\n",
              "      <th>Price</th>\n",
              "      <th>Customer ID</th>\n",
              "      <th>Country</th>\n",
              "      <th>TotalPrice</th>\n",
              "    </tr>\n",
              "  </thead>\n",
              "  <tbody>\n",
              "    <tr>\n",
              "      <th>0</th>\n",
              "      <td>489434</td>\n",
              "      <td>85048</td>\n",
              "      <td>15CM CHRISTMAS GLASS BALL 20 LIGHTS</td>\n",
              "      <td>12</td>\n",
              "      <td>2009-12-01 07:45:00</td>\n",
              "      <td>7</td>\n",
              "      <td>13085</td>\n",
              "      <td>United Kingdom</td>\n",
              "      <td>83</td>\n",
              "    </tr>\n",
              "    <tr>\n",
              "      <th>1</th>\n",
              "      <td>489434</td>\n",
              "      <td>79323P</td>\n",
              "      <td>PINK CHERRY LIGHTS</td>\n",
              "      <td>12</td>\n",
              "      <td>2009-12-01 07:45:00</td>\n",
              "      <td>7</td>\n",
              "      <td>13085</td>\n",
              "      <td>United Kingdom</td>\n",
              "      <td>81</td>\n",
              "    </tr>\n",
              "    <tr>\n",
              "      <th>2</th>\n",
              "      <td>489434</td>\n",
              "      <td>79323W</td>\n",
              "      <td>WHITE CHERRY LIGHTS</td>\n",
              "      <td>12</td>\n",
              "      <td>2009-12-01 07:45:00</td>\n",
              "      <td>7</td>\n",
              "      <td>13085</td>\n",
              "      <td>United Kingdom</td>\n",
              "      <td>81</td>\n",
              "    </tr>\n",
              "    <tr>\n",
              "      <th>3</th>\n",
              "      <td>489434</td>\n",
              "      <td>22041</td>\n",
              "      <td>RECORD FRAME 7\" SINGLE SIZE</td>\n",
              "      <td>48</td>\n",
              "      <td>2009-12-01 07:45:00</td>\n",
              "      <td>2</td>\n",
              "      <td>13085</td>\n",
              "      <td>United Kingdom</td>\n",
              "      <td>101</td>\n",
              "    </tr>\n",
              "    <tr>\n",
              "      <th>4</th>\n",
              "      <td>489434</td>\n",
              "      <td>21232</td>\n",
              "      <td>STRAWBERRY CERAMIC TRINKET BOX</td>\n",
              "      <td>24</td>\n",
              "      <td>2009-12-01 07:45:00</td>\n",
              "      <td>1</td>\n",
              "      <td>13085</td>\n",
              "      <td>United Kingdom</td>\n",
              "      <td>30</td>\n",
              "    </tr>\n",
              "  </tbody>\n",
              "</table>\n",
              "</div>"
            ],
            "text/plain": [
              "  Invoice StockCode                          Description  Quantity  \\\n",
              "0  489434     85048  15CM CHRISTMAS GLASS BALL 20 LIGHTS        12   \n",
              "1  489434    79323P                   PINK CHERRY LIGHTS        12   \n",
              "2  489434    79323W                  WHITE CHERRY LIGHTS        12   \n",
              "3  489434     22041         RECORD FRAME 7\" SINGLE SIZE         48   \n",
              "4  489434     21232       STRAWBERRY CERAMIC TRINKET BOX        24   \n",
              "\n",
              "          InvoiceDate  Price  Customer ID         Country  TotalPrice  \n",
              "0 2009-12-01 07:45:00      7        13085  United Kingdom          83  \n",
              "1 2009-12-01 07:45:00      7        13085  United Kingdom          81  \n",
              "2 2009-12-01 07:45:00      7        13085  United Kingdom          81  \n",
              "3 2009-12-01 07:45:00      2        13085  United Kingdom         101  \n",
              "4 2009-12-01 07:45:00      1        13085  United Kingdom          30  "
            ]
          },
          "execution_count": 11,
          "metadata": {},
          "output_type": "execute_result"
        }
      ],
      "source": [
        "df.head()"
      ]
    },
    {
      "cell_type": "code",
      "execution_count": null,
      "metadata": {
        "id": "Vvzd3CRateMV",
        "outputId": "c3f1fcfa-7a3e-44f6-ae7c-140641e6738e"
      },
      "outputs": [
        {
          "data": {
            "text/html": [
              "<div>\n",
              "<style scoped>\n",
              "    .dataframe tbody tr th:only-of-type {\n",
              "        vertical-align: middle;\n",
              "    }\n",
              "\n",
              "    .dataframe tbody tr th {\n",
              "        vertical-align: top;\n",
              "    }\n",
              "\n",
              "    .dataframe thead th {\n",
              "        text-align: right;\n",
              "    }\n",
              "</style>\n",
              "<table border=\"1\" class=\"dataframe\">\n",
              "  <thead>\n",
              "    <tr style=\"text-align: right;\">\n",
              "      <th></th>\n",
              "      <th>TotalPrice</th>\n",
              "    </tr>\n",
              "    <tr>\n",
              "      <th>Invoice</th>\n",
              "      <th></th>\n",
              "    </tr>\n",
              "  </thead>\n",
              "  <tbody>\n",
              "    <tr>\n",
              "      <th>489434</th>\n",
              "      <td>505</td>\n",
              "    </tr>\n",
              "    <tr>\n",
              "      <th>489435</th>\n",
              "      <td>146</td>\n",
              "    </tr>\n",
              "    <tr>\n",
              "      <th>489436</th>\n",
              "      <td>630</td>\n",
              "    </tr>\n",
              "    <tr>\n",
              "      <th>489437</th>\n",
              "      <td>311</td>\n",
              "    </tr>\n",
              "    <tr>\n",
              "      <th>489438</th>\n",
              "      <td>2286</td>\n",
              "    </tr>\n",
              "  </tbody>\n",
              "</table>\n",
              "</div>"
            ],
            "text/plain": [
              "         TotalPrice\n",
              "Invoice            \n",
              "489434          505\n",
              "489435          146\n",
              "489436          630\n",
              "489437          311\n",
              "489438         2286"
            ]
          },
          "execution_count": 12,
          "metadata": {},
          "output_type": "execute_result"
        }
      ],
      "source": [
        "df.groupby(\"Invoice\").agg({\"TotalPrice\":\"sum\"}).head()"
      ]
    },
    {
      "cell_type": "markdown",
      "metadata": {
        "id": "-h2smvsFteMW"
      },
      "source": [
        "## 7. Which are the most expensive products?"
      ]
    },
    {
      "cell_type": "code",
      "execution_count": null,
      "metadata": {
        "id": "UuZBQ2wpteMX",
        "outputId": "3b6bdd38-503c-4901-87be-d4935694a4b9"
      },
      "outputs": [
        {
          "data": {
            "text/html": [
              "<div>\n",
              "<style scoped>\n",
              "    .dataframe tbody tr th:only-of-type {\n",
              "        vertical-align: middle;\n",
              "    }\n",
              "\n",
              "    .dataframe tbody tr th {\n",
              "        vertical-align: top;\n",
              "    }\n",
              "\n",
              "    .dataframe thead th {\n",
              "        text-align: right;\n",
              "    }\n",
              "</style>\n",
              "<table border=\"1\" class=\"dataframe\">\n",
              "  <thead>\n",
              "    <tr style=\"text-align: right;\">\n",
              "      <th></th>\n",
              "      <th>Invoice</th>\n",
              "      <th>StockCode</th>\n",
              "      <th>Description</th>\n",
              "      <th>Quantity</th>\n",
              "      <th>InvoiceDate</th>\n",
              "      <th>Price</th>\n",
              "      <th>Customer ID</th>\n",
              "      <th>Country</th>\n",
              "      <th>TotalPrice</th>\n",
              "    </tr>\n",
              "  </thead>\n",
              "  <tbody>\n",
              "    <tr>\n",
              "      <th>241824</th>\n",
              "      <td>C512770</td>\n",
              "      <td>M</td>\n",
              "      <td>Manual</td>\n",
              "      <td>-1</td>\n",
              "      <td>2010-06-17 16:52:00</td>\n",
              "      <td>25111</td>\n",
              "      <td>17399</td>\n",
              "      <td>United Kingdom</td>\n",
              "      <td>-25111</td>\n",
              "    </tr>\n",
              "    <tr>\n",
              "      <th>241827</th>\n",
              "      <td>512771</td>\n",
              "      <td>M</td>\n",
              "      <td>Manual</td>\n",
              "      <td>1</td>\n",
              "      <td>2010-06-17 16:53:00</td>\n",
              "      <td>25111</td>\n",
              "      <td>nan</td>\n",
              "      <td>United Kingdom</td>\n",
              "      <td>25111</td>\n",
              "    </tr>\n",
              "    <tr>\n",
              "      <th>320581</th>\n",
              "      <td>C520667</td>\n",
              "      <td>BANK CHARGES</td>\n",
              "      <td>Bank Charges</td>\n",
              "      <td>-1</td>\n",
              "      <td>2010-08-27 13:42:00</td>\n",
              "      <td>18911</td>\n",
              "      <td>nan</td>\n",
              "      <td>United Kingdom</td>\n",
              "      <td>-18911</td>\n",
              "    </tr>\n",
              "    <tr>\n",
              "      <th>517953</th>\n",
              "      <td>C537630</td>\n",
              "      <td>AMAZONFEE</td>\n",
              "      <td>AMAZON FEE</td>\n",
              "      <td>-1</td>\n",
              "      <td>2010-12-07 15:04:00</td>\n",
              "      <td>13541</td>\n",
              "      <td>nan</td>\n",
              "      <td>United Kingdom</td>\n",
              "      <td>-13541</td>\n",
              "    </tr>\n",
              "    <tr>\n",
              "      <th>519294</th>\n",
              "      <td>C537651</td>\n",
              "      <td>AMAZONFEE</td>\n",
              "      <td>AMAZON FEE</td>\n",
              "      <td>-1</td>\n",
              "      <td>2010-12-07 15:49:00</td>\n",
              "      <td>13541</td>\n",
              "      <td>nan</td>\n",
              "      <td>United Kingdom</td>\n",
              "      <td>-13541</td>\n",
              "    </tr>\n",
              "  </tbody>\n",
              "</table>\n",
              "</div>"
            ],
            "text/plain": [
              "        Invoice     StockCode   Description  Quantity         InvoiceDate  \\\n",
              "241824  C512770             M        Manual        -1 2010-06-17 16:52:00   \n",
              "241827   512771             M        Manual         1 2010-06-17 16:53:00   \n",
              "320581  C520667  BANK CHARGES  Bank Charges        -1 2010-08-27 13:42:00   \n",
              "517953  C537630     AMAZONFEE    AMAZON FEE        -1 2010-12-07 15:04:00   \n",
              "519294  C537651     AMAZONFEE    AMAZON FEE        -1 2010-12-07 15:49:00   \n",
              "\n",
              "        Price  Customer ID         Country  TotalPrice  \n",
              "241824  25111        17399  United Kingdom      -25111  \n",
              "241827  25111          nan  United Kingdom       25111  \n",
              "320581  18911          nan  United Kingdom      -18911  \n",
              "517953  13541          nan  United Kingdom      -13541  \n",
              "519294  13541          nan  United Kingdom      -13541  "
            ]
          },
          "execution_count": 13,
          "metadata": {},
          "output_type": "execute_result"
        }
      ],
      "source": [
        "df.sort_values(\"Price\", ascending = False).head()"
      ]
    },
    {
      "cell_type": "markdown",
      "metadata": {
        "id": "wH8afGh1teMi"
      },
      "source": [
        "## 8. How many orders came from which country?"
      ]
    },
    {
      "cell_type": "code",
      "execution_count": null,
      "metadata": {
        "id": "FV9Fz-5FteMi",
        "outputId": "de07cc0a-270c-45c6-9683-7c1e349f5f47"
      },
      "outputs": [
        {
          "data": {
            "text/plain": [
              "United Kingdom          485852\n",
              "EIRE                      9670\n",
              "Germany                   8129\n",
              "France                    5772\n",
              "Netherlands               2769\n",
              "Spain                     1278\n",
              "Switzerland               1187\n",
              "Portugal                  1101\n",
              "Belgium                   1054\n",
              "Channel Islands            906\n",
              "Sweden                     902\n",
              "Italy                      731\n",
              "Australia                  654\n",
              "Cyprus                     554\n",
              "Austria                    537\n",
              "Greece                     517\n",
              "United Arab Emirates       432\n",
              "Denmark                    428\n",
              "Norway                     369\n",
              "Finland                    354\n",
              "Unspecified                310\n",
              "USA                        244\n",
              "Japan                      224\n",
              "Poland                     194\n",
              "Malta                      172\n",
              "Lithuania                  154\n",
              "Singapore                  117\n",
              "RSA                        111\n",
              "Bahrain                    107\n",
              "Canada                      77\n",
              "Hong Kong                   76\n",
              "Thailand                    76\n",
              "Israel                      74\n",
              "Iceland                     71\n",
              "Korea                       63\n",
              "Brazil                      62\n",
              "West Indies                 54\n",
              "Bermuda                     34\n",
              "Nigeria                     32\n",
              "Lebanon                     13\n",
              "Name: Country, dtype: int64"
            ]
          },
          "execution_count": 14,
          "metadata": {},
          "output_type": "execute_result"
        }
      ],
      "source": [
        "df[\"Country\"].value_counts()"
      ]
    },
    {
      "cell_type": "markdown",
      "metadata": {
        "id": "-iaYFi4wteMj"
      },
      "source": [
        "## 9. Which country gained how much?"
      ]
    },
    {
      "cell_type": "code",
      "execution_count": null,
      "metadata": {
        "id": "lyWx0THgteMn",
        "outputId": "fd27ef6f-dd71-4b48-d2d1-b967d58f5abd"
      },
      "outputs": [
        {
          "data": {
            "text/html": [
              "<div>\n",
              "<style scoped>\n",
              "    .dataframe tbody tr th:only-of-type {\n",
              "        vertical-align: middle;\n",
              "    }\n",
              "\n",
              "    .dataframe tbody tr th {\n",
              "        vertical-align: top;\n",
              "    }\n",
              "\n",
              "    .dataframe thead th {\n",
              "        text-align: right;\n",
              "    }\n",
              "</style>\n",
              "<table border=\"1\" class=\"dataframe\">\n",
              "  <thead>\n",
              "    <tr style=\"text-align: right;\">\n",
              "      <th></th>\n",
              "      <th>TotalPrice</th>\n",
              "    </tr>\n",
              "    <tr>\n",
              "      <th>Country</th>\n",
              "      <th></th>\n",
              "    </tr>\n",
              "  </thead>\n",
              "  <tbody>\n",
              "    <tr>\n",
              "      <th>United Kingdom</th>\n",
              "      <td>8194778</td>\n",
              "    </tr>\n",
              "    <tr>\n",
              "      <th>EIRE</th>\n",
              "      <td>352243</td>\n",
              "    </tr>\n",
              "    <tr>\n",
              "      <th>Netherlands</th>\n",
              "      <td>263863</td>\n",
              "    </tr>\n",
              "    <tr>\n",
              "      <th>Germany</th>\n",
              "      <td>196290</td>\n",
              "    </tr>\n",
              "    <tr>\n",
              "      <th>France</th>\n",
              "      <td>130770</td>\n",
              "    </tr>\n",
              "  </tbody>\n",
              "</table>\n",
              "</div>"
            ],
            "text/plain": [
              "                TotalPrice\n",
              "Country                   \n",
              "United Kingdom     8194778\n",
              "EIRE                352243\n",
              "Netherlands         263863\n",
              "Germany             196290\n",
              "France              130770"
            ]
          },
          "execution_count": 15,
          "metadata": {},
          "output_type": "execute_result"
        }
      ],
      "source": [
        "df.groupby(\"Country\").agg({\"TotalPrice\":\"sum\"}).sort_values(\"TotalPrice\", ascending = False).head()"
      ]
    },
    {
      "cell_type": "markdown",
      "metadata": {
        "id": "O-uGFzkSteMn"
      },
      "source": [
        "## 10. Which product is the most returned?"
      ]
    },
    {
      "cell_type": "code",
      "execution_count": null,
      "metadata": {
        "id": "VO88IlXsteMo",
        "outputId": "5a4936db-234d-4b03-b19d-326e662f7a02"
      },
      "outputs": [
        {
          "data": {
            "text/html": [
              "<div>\n",
              "<style scoped>\n",
              "    .dataframe tbody tr th:only-of-type {\n",
              "        vertical-align: middle;\n",
              "    }\n",
              "\n",
              "    .dataframe tbody tr th {\n",
              "        vertical-align: top;\n",
              "    }\n",
              "\n",
              "    .dataframe thead th {\n",
              "        text-align: right;\n",
              "    }\n",
              "</style>\n",
              "<table border=\"1\" class=\"dataframe\">\n",
              "  <thead>\n",
              "    <tr style=\"text-align: right;\">\n",
              "      <th></th>\n",
              "      <th>Invoice</th>\n",
              "      <th>StockCode</th>\n",
              "      <th>Description</th>\n",
              "      <th>Quantity</th>\n",
              "      <th>InvoiceDate</th>\n",
              "      <th>Price</th>\n",
              "      <th>Customer ID</th>\n",
              "      <th>Country</th>\n",
              "      <th>TotalPrice</th>\n",
              "    </tr>\n",
              "  </thead>\n",
              "  <tbody>\n",
              "    <tr>\n",
              "      <th>507225</th>\n",
              "      <td>C536757</td>\n",
              "      <td>84347</td>\n",
              "      <td>ROTATING SILVER ANGELS T-LIGHT HLDR</td>\n",
              "      <td>-9360</td>\n",
              "      <td>2010-12-02 14:23:00</td>\n",
              "      <td>0</td>\n",
              "      <td>15838</td>\n",
              "      <td>United Kingdom</td>\n",
              "      <td>-281</td>\n",
              "    </tr>\n",
              "    <tr>\n",
              "      <th>359669</th>\n",
              "      <td>C524235</td>\n",
              "      <td>21088</td>\n",
              "      <td>SET/6 FRUIT SALAD PAPER CUPS</td>\n",
              "      <td>-7128</td>\n",
              "      <td>2010-09-28 11:02:00</td>\n",
              "      <td>0</td>\n",
              "      <td>14277</td>\n",
              "      <td>France</td>\n",
              "      <td>-570</td>\n",
              "    </tr>\n",
              "    <tr>\n",
              "      <th>359670</th>\n",
              "      <td>C524235</td>\n",
              "      <td>21096</td>\n",
              "      <td>SET/6 FRUIT SALAD  PAPER PLATES</td>\n",
              "      <td>-7008</td>\n",
              "      <td>2010-09-28 11:02:00</td>\n",
              "      <td>0</td>\n",
              "      <td>14277</td>\n",
              "      <td>France</td>\n",
              "      <td>-911</td>\n",
              "    </tr>\n",
              "    <tr>\n",
              "      <th>359630</th>\n",
              "      <td>C524235</td>\n",
              "      <td>16047</td>\n",
              "      <td>POP ART PEN CASE &amp; PENS</td>\n",
              "      <td>-5184</td>\n",
              "      <td>2010-09-28 11:02:00</td>\n",
              "      <td>0</td>\n",
              "      <td>14277</td>\n",
              "      <td>France</td>\n",
              "      <td>-415</td>\n",
              "    </tr>\n",
              "    <tr>\n",
              "      <th>359636</th>\n",
              "      <td>C524235</td>\n",
              "      <td>37340</td>\n",
              "      <td>MULTICOLOUR SPRING FLOWER MUG</td>\n",
              "      <td>-4992</td>\n",
              "      <td>2010-09-28 11:02:00</td>\n",
              "      <td>0</td>\n",
              "      <td>14277</td>\n",
              "      <td>France</td>\n",
              "      <td>-499</td>\n",
              "    </tr>\n",
              "  </tbody>\n",
              "</table>\n",
              "</div>"
            ],
            "text/plain": [
              "        Invoice StockCode                          Description  Quantity  \\\n",
              "507225  C536757     84347  ROTATING SILVER ANGELS T-LIGHT HLDR     -9360   \n",
              "359669  C524235     21088         SET/6 FRUIT SALAD PAPER CUPS     -7128   \n",
              "359670  C524235     21096      SET/6 FRUIT SALAD  PAPER PLATES     -7008   \n",
              "359630  C524235     16047              POP ART PEN CASE & PENS     -5184   \n",
              "359636  C524235     37340        MULTICOLOUR SPRING FLOWER MUG     -4992   \n",
              "\n",
              "               InvoiceDate  Price  Customer ID         Country  TotalPrice  \n",
              "507225 2010-12-02 14:23:00      0        15838  United Kingdom        -281  \n",
              "359669 2010-09-28 11:02:00      0        14277          France        -570  \n",
              "359670 2010-09-28 11:02:00      0        14277          France        -911  \n",
              "359630 2010-09-28 11:02:00      0        14277          France        -415  \n",
              "359636 2010-09-28 11:02:00      0        14277          France        -499  "
            ]
          },
          "execution_count": 16,
          "metadata": {},
          "output_type": "execute_result"
        }
      ],
      "source": [
        "df[df['Invoice'].str.startswith(\"C\", na=False)].sort_values(\"Quantity\", ascending = True).head()"
      ]
    },
    {
      "cell_type": "markdown",
      "metadata": {
        "id": "AQ95OwOKteMo"
      },
      "source": [
        "# Data Preparation"
      ]
    },
    {
      "cell_type": "code",
      "execution_count": null,
      "metadata": {
        "id": "LZDqVgsateMr",
        "outputId": "e5f540c0-0b24-4ece-d940-081f0a50c531"
      },
      "outputs": [
        {
          "data": {
            "text/plain": [
              "Invoice             0\n",
              "StockCode           0\n",
              "Description      2928\n",
              "Quantity            0\n",
              "InvoiceDate         0\n",
              "Price               0\n",
              "Customer ID    107927\n",
              "Country             0\n",
              "TotalPrice          0\n",
              "dtype: int64"
            ]
          },
          "execution_count": 17,
          "metadata": {},
          "output_type": "execute_result"
        }
      ],
      "source": [
        "df.isnull().sum()"
      ]
    },
    {
      "cell_type": "code",
      "execution_count": null,
      "metadata": {
        "id": "wxBvTjWAteMt"
      },
      "outputs": [],
      "source": [
        "df.dropna(inplace = True)"
      ]
    },
    {
      "cell_type": "code",
      "execution_count": null,
      "metadata": {
        "id": "jyNLHPbAteMu",
        "outputId": "656d2289-6d11-4f51-f7cf-7afe4dc1f4fd"
      },
      "outputs": [
        {
          "data": {
            "text/plain": [
              "(417534, 9)"
            ]
          },
          "execution_count": 19,
          "metadata": {},
          "output_type": "execute_result"
        }
      ],
      "source": [
        "df.shape"
      ]
    },
    {
      "cell_type": "code",
      "execution_count": null,
      "metadata": {
        "id": "HHTJFVyiteMw",
        "outputId": "f73a3182-f4c7-4b26-b5d4-67ddeae53060"
      },
      "outputs": [
        {
          "data": {
            "text/html": [
              "<div>\n",
              "<style scoped>\n",
              "    .dataframe tbody tr th:only-of-type {\n",
              "        vertical-align: middle;\n",
              "    }\n",
              "\n",
              "    .dataframe tbody tr th {\n",
              "        vertical-align: top;\n",
              "    }\n",
              "\n",
              "    .dataframe thead th {\n",
              "        text-align: right;\n",
              "    }\n",
              "</style>\n",
              "<table border=\"1\" class=\"dataframe\">\n",
              "  <thead>\n",
              "    <tr style=\"text-align: right;\">\n",
              "      <th></th>\n",
              "      <th>count</th>\n",
              "      <th>mean</th>\n",
              "      <th>std</th>\n",
              "      <th>min</th>\n",
              "      <th>1%</th>\n",
              "      <th>5%</th>\n",
              "      <th>10%</th>\n",
              "      <th>25%</th>\n",
              "      <th>50%</th>\n",
              "      <th>75%</th>\n",
              "      <th>90%</th>\n",
              "      <th>95%</th>\n",
              "      <th>99%</th>\n",
              "      <th>max</th>\n",
              "    </tr>\n",
              "  </thead>\n",
              "  <tbody>\n",
              "    <tr>\n",
              "      <th>Quantity</th>\n",
              "      <td>417534</td>\n",
              "      <td>13</td>\n",
              "      <td>101</td>\n",
              "      <td>-9360</td>\n",
              "      <td>-2</td>\n",
              "      <td>1</td>\n",
              "      <td>1</td>\n",
              "      <td>2</td>\n",
              "      <td>4</td>\n",
              "      <td>12</td>\n",
              "      <td>24</td>\n",
              "      <td>36</td>\n",
              "      <td>144</td>\n",
              "      <td>19152</td>\n",
              "    </tr>\n",
              "    <tr>\n",
              "      <th>Price</th>\n",
              "      <td>417534</td>\n",
              "      <td>4</td>\n",
              "      <td>71</td>\n",
              "      <td>0</td>\n",
              "      <td>0</td>\n",
              "      <td>0</td>\n",
              "      <td>1</td>\n",
              "      <td>1</td>\n",
              "      <td>2</td>\n",
              "      <td>4</td>\n",
              "      <td>7</td>\n",
              "      <td>8</td>\n",
              "      <td>15</td>\n",
              "      <td>25111</td>\n",
              "    </tr>\n",
              "    <tr>\n",
              "      <th>Customer ID</th>\n",
              "      <td>417534</td>\n",
              "      <td>15361</td>\n",
              "      <td>1681</td>\n",
              "      <td>12346</td>\n",
              "      <td>12435</td>\n",
              "      <td>12725</td>\n",
              "      <td>13042</td>\n",
              "      <td>13983</td>\n",
              "      <td>15311</td>\n",
              "      <td>16799</td>\n",
              "      <td>17706</td>\n",
              "      <td>17913</td>\n",
              "      <td>18196</td>\n",
              "      <td>18287</td>\n",
              "    </tr>\n",
              "    <tr>\n",
              "      <th>TotalPrice</th>\n",
              "      <td>417534</td>\n",
              "      <td>20</td>\n",
              "      <td>100</td>\n",
              "      <td>-25111</td>\n",
              "      <td>-11</td>\n",
              "      <td>1</td>\n",
              "      <td>2</td>\n",
              "      <td>4</td>\n",
              "      <td>11</td>\n",
              "      <td>19</td>\n",
              "      <td>35</td>\n",
              "      <td>65</td>\n",
              "      <td>196</td>\n",
              "      <td>15818</td>\n",
              "    </tr>\n",
              "  </tbody>\n",
              "</table>\n",
              "</div>"
            ],
            "text/plain": [
              "             count  mean  std    min    1%    5%   10%   25%   50%   75%  \\\n",
              "Quantity    417534    13  101  -9360    -2     1     1     2     4    12   \n",
              "Price       417534     4   71      0     0     0     1     1     2     4   \n",
              "Customer ID 417534 15361 1681  12346 12435 12725 13042 13983 15311 16799   \n",
              "TotalPrice  417534    20  100 -25111   -11     1     2     4    11    19   \n",
              "\n",
              "              90%   95%   99%   max  \n",
              "Quantity       24    36   144 19152  \n",
              "Price           7     8    15 25111  \n",
              "Customer ID 17706 17913 18196 18287  \n",
              "TotalPrice     35    65   196 15818  "
            ]
          },
          "execution_count": 20,
          "metadata": {},
          "output_type": "execute_result"
        }
      ],
      "source": [
        "df.describe([0.01,0.05,0.10,0.25,0.50,0.75,0.90,0.95, 0.99]).T"
      ]
    },
    {
      "cell_type": "code",
      "execution_count": null,
      "metadata": {
        "id": "q3JlTWYlteMz",
        "outputId": "43eedd80-f947-4214-a4ca-704806890a10"
      },
      "outputs": [
        {
          "name": "stdout",
          "output_type": "stream",
          "text": [
            "Quantity yes\n",
            "1063\n",
            "Price yes\n",
            "953\n",
            "TotalPrice yes\n",
            "1150\n"
          ]
        }
      ],
      "source": [
        "for feature in [\"Quantity\",\"Price\",\"TotalPrice\"]:\n",
        "\n",
        "    Q1 = df[feature].quantile(0.01)\n",
        "    Q3 = df[feature].quantile(0.99)\n",
        "    IQR = Q3-Q1\n",
        "    upper = Q3 + 1.5*IQR\n",
        "    lower = Q1 - 1.5*IQR\n",
        "\n",
        "    if df[(df[feature] > upper) | (df[feature] < lower)].any(axis=None):\n",
        "        print(feature,\"yes\")\n",
        "        print(df[(df[feature] > upper) | (df[feature] < lower)].shape[0])\n",
        "    else:\n",
        "        print(feature, \"no\")"
      ]
    },
    {
      "cell_type": "markdown",
      "metadata": {
        "id": "T0JJFDEFteM0"
      },
      "source": [
        "# Customer Segmentation with RFM Scores\n",
        "\n",
        "Consists of initials of Recency, Frequency, Monetary expressions.\n",
        "\n",
        "It is a technique that helps determine marketing and sales strategies based on customers' buying habits.\n",
        "\n",
        "- Recency (innovation): Time since customer last purchased\n",
        "\n",
        "     -- In other words, it is the “time since the last contact of the customer”.\n",
        "\n",
        "     -- Today's date - Last purchase\n",
        "\n",
        "     -- To give an example, if we are doing this analysis today, today's date is the last product purchase date.\n",
        "\n",
        "     -- This can be for example 20 or 100. We know that 20 customers are hotter. He has been in contact with us recently.\n",
        "\n",
        "- Frequency: Total number of purchases.\n",
        "\n",
        "- Monetary (Monetary Value): Total spending by the customer.\n"
      ]
    },
    {
      "cell_type": "code",
      "execution_count": null,
      "metadata": {
        "id": "8TAvcwA8teM1",
        "outputId": "2f65afe0-4ba8-470e-928e-641c3ff07ef4"
      },
      "outputs": [
        {
          "data": {
            "text/html": [
              "<div>\n",
              "<style scoped>\n",
              "    .dataframe tbody tr th:only-of-type {\n",
              "        vertical-align: middle;\n",
              "    }\n",
              "\n",
              "    .dataframe tbody tr th {\n",
              "        vertical-align: top;\n",
              "    }\n",
              "\n",
              "    .dataframe thead th {\n",
              "        text-align: right;\n",
              "    }\n",
              "</style>\n",
              "<table border=\"1\" class=\"dataframe\">\n",
              "  <thead>\n",
              "    <tr style=\"text-align: right;\">\n",
              "      <th></th>\n",
              "      <th>Invoice</th>\n",
              "      <th>StockCode</th>\n",
              "      <th>Description</th>\n",
              "      <th>Quantity</th>\n",
              "      <th>InvoiceDate</th>\n",
              "      <th>Price</th>\n",
              "      <th>Customer ID</th>\n",
              "      <th>Country</th>\n",
              "      <th>TotalPrice</th>\n",
              "    </tr>\n",
              "  </thead>\n",
              "  <tbody>\n",
              "    <tr>\n",
              "      <th>0</th>\n",
              "      <td>489434</td>\n",
              "      <td>85048</td>\n",
              "      <td>15CM CHRISTMAS GLASS BALL 20 LIGHTS</td>\n",
              "      <td>12</td>\n",
              "      <td>2009-12-01 07:45:00</td>\n",
              "      <td>7</td>\n",
              "      <td>13085</td>\n",
              "      <td>United Kingdom</td>\n",
              "      <td>83</td>\n",
              "    </tr>\n",
              "    <tr>\n",
              "      <th>1</th>\n",
              "      <td>489434</td>\n",
              "      <td>79323P</td>\n",
              "      <td>PINK CHERRY LIGHTS</td>\n",
              "      <td>12</td>\n",
              "      <td>2009-12-01 07:45:00</td>\n",
              "      <td>7</td>\n",
              "      <td>13085</td>\n",
              "      <td>United Kingdom</td>\n",
              "      <td>81</td>\n",
              "    </tr>\n",
              "    <tr>\n",
              "      <th>2</th>\n",
              "      <td>489434</td>\n",
              "      <td>79323W</td>\n",
              "      <td>WHITE CHERRY LIGHTS</td>\n",
              "      <td>12</td>\n",
              "      <td>2009-12-01 07:45:00</td>\n",
              "      <td>7</td>\n",
              "      <td>13085</td>\n",
              "      <td>United Kingdom</td>\n",
              "      <td>81</td>\n",
              "    </tr>\n",
              "    <tr>\n",
              "      <th>3</th>\n",
              "      <td>489434</td>\n",
              "      <td>22041</td>\n",
              "      <td>RECORD FRAME 7\" SINGLE SIZE</td>\n",
              "      <td>48</td>\n",
              "      <td>2009-12-01 07:45:00</td>\n",
              "      <td>2</td>\n",
              "      <td>13085</td>\n",
              "      <td>United Kingdom</td>\n",
              "      <td>101</td>\n",
              "    </tr>\n",
              "    <tr>\n",
              "      <th>4</th>\n",
              "      <td>489434</td>\n",
              "      <td>21232</td>\n",
              "      <td>STRAWBERRY CERAMIC TRINKET BOX</td>\n",
              "      <td>24</td>\n",
              "      <td>2009-12-01 07:45:00</td>\n",
              "      <td>1</td>\n",
              "      <td>13085</td>\n",
              "      <td>United Kingdom</td>\n",
              "      <td>30</td>\n",
              "    </tr>\n",
              "  </tbody>\n",
              "</table>\n",
              "</div>"
            ],
            "text/plain": [
              "  Invoice StockCode                          Description  Quantity  \\\n",
              "0  489434     85048  15CM CHRISTMAS GLASS BALL 20 LIGHTS        12   \n",
              "1  489434    79323P                   PINK CHERRY LIGHTS        12   \n",
              "2  489434    79323W                  WHITE CHERRY LIGHTS        12   \n",
              "3  489434     22041         RECORD FRAME 7\" SINGLE SIZE         48   \n",
              "4  489434     21232       STRAWBERRY CERAMIC TRINKET BOX        24   \n",
              "\n",
              "          InvoiceDate  Price  Customer ID         Country  TotalPrice  \n",
              "0 2009-12-01 07:45:00      7        13085  United Kingdom          83  \n",
              "1 2009-12-01 07:45:00      7        13085  United Kingdom          81  \n",
              "2 2009-12-01 07:45:00      7        13085  United Kingdom          81  \n",
              "3 2009-12-01 07:45:00      2        13085  United Kingdom         101  \n",
              "4 2009-12-01 07:45:00      1        13085  United Kingdom          30  "
            ]
          },
          "execution_count": 22,
          "metadata": {},
          "output_type": "execute_result"
        }
      ],
      "source": [
        "df.head()"
      ]
    },
    {
      "cell_type": "code",
      "execution_count": null,
      "metadata": {
        "id": "N5u9yytTteM4",
        "outputId": "1f378847-509d-40ac-9306-af58fd5e4bf2"
      },
      "outputs": [
        {
          "name": "stdout",
          "output_type": "stream",
          "text": [
            "<class 'pandas.core.frame.DataFrame'>\n",
            "Int64Index: 417534 entries, 0 to 525460\n",
            "Data columns (total 9 columns):\n",
            " #   Column       Non-Null Count   Dtype         \n",
            "---  ------       --------------   -----         \n",
            " 0   Invoice      417534 non-null  object        \n",
            " 1   StockCode    417534 non-null  object        \n",
            " 2   Description  417534 non-null  object        \n",
            " 3   Quantity     417534 non-null  int64         \n",
            " 4   InvoiceDate  417534 non-null  datetime64[ns]\n",
            " 5   Price        417534 non-null  float64       \n",
            " 6   Customer ID  417534 non-null  float64       \n",
            " 7   Country      417534 non-null  object        \n",
            " 8   TotalPrice   417534 non-null  float64       \n",
            "dtypes: datetime64[ns](1), float64(3), int64(1), object(4)\n",
            "memory usage: 31.9+ MB\n"
          ]
        }
      ],
      "source": [
        "df.info()"
      ]
    },
    {
      "cell_type": "code",
      "execution_count": null,
      "metadata": {
        "id": "DNywrzrIteM4",
        "outputId": "6ef1ac36-5178-4e4b-964d-d1365d986a6c"
      },
      "outputs": [
        {
          "data": {
            "text/plain": [
              "Timestamp('2009-12-01 07:45:00')"
            ]
          },
          "execution_count": 24,
          "metadata": {},
          "output_type": "execute_result"
        }
      ],
      "source": [
        "df[\"InvoiceDate\"].min()"
      ]
    },
    {
      "cell_type": "code",
      "execution_count": null,
      "metadata": {
        "id": "3c4GF7IkteM5",
        "outputId": "484ee7dd-7c00-4c11-c2ec-d81f1cd040a7"
      },
      "outputs": [
        {
          "data": {
            "text/plain": [
              "Timestamp('2010-12-09 20:01:00')"
            ]
          },
          "execution_count": 25,
          "metadata": {},
          "output_type": "execute_result"
        }
      ],
      "source": [
        "df[\"InvoiceDate\"].max()"
      ]
    },
    {
      "cell_type": "markdown",
      "metadata": {
        "id": "Wv037mdwteM5"
      },
      "source": [
        "What is today? Now if we take today's date, then there will be a very serious difference.\n",
        "\n",
        "For this reason, let us determine ourselves a \"today\" according to the structure of this data set.\n",
        "\n",
        "We can set this day as the maximum day of the data set.\n",
        "\n",
        "We can segmentation according to the day of the last recording."
      ]
    },
    {
      "cell_type": "code",
      "execution_count": null,
      "metadata": {
        "id": "U6L50BEIteM6"
      },
      "outputs": [],
      "source": [
        "import datetime as dt\n",
        "\n",
        "today_date = dt.datetime(2010,12,9)"
      ]
    },
    {
      "cell_type": "code",
      "execution_count": null,
      "metadata": {
        "id": "Z0ojLL18teQu",
        "outputId": "31178645-c248-4c0f-baff-85f5a49bfa09"
      },
      "outputs": [
        {
          "data": {
            "text/plain": [
              "datetime.datetime(2010, 12, 9, 0, 0)"
            ]
          },
          "execution_count": 27,
          "metadata": {},
          "output_type": "execute_result"
        }
      ],
      "source": [
        "today_date"
      ]
    },
    {
      "cell_type": "markdown",
      "metadata": {
        "id": "13woEPgOteQw"
      },
      "source": [
        "## 11. Show the last shopping dates of each customer."
      ]
    },
    {
      "cell_type": "code",
      "execution_count": null,
      "metadata": {
        "id": "2jVMK0YyteQw",
        "outputId": "8e183ea1-2c75-4bb7-aac7-62679870dc3c"
      },
      "outputs": [
        {
          "data": {
            "text/html": [
              "<div>\n",
              "<style scoped>\n",
              "    .dataframe tbody tr th:only-of-type {\n",
              "        vertical-align: middle;\n",
              "    }\n",
              "\n",
              "    .dataframe tbody tr th {\n",
              "        vertical-align: top;\n",
              "    }\n",
              "\n",
              "    .dataframe thead th {\n",
              "        text-align: right;\n",
              "    }\n",
              "</style>\n",
              "<table border=\"1\" class=\"dataframe\">\n",
              "  <thead>\n",
              "    <tr style=\"text-align: right;\">\n",
              "      <th></th>\n",
              "      <th>InvoiceDate</th>\n",
              "    </tr>\n",
              "    <tr>\n",
              "      <th>Customer ID</th>\n",
              "      <th></th>\n",
              "    </tr>\n",
              "  </thead>\n",
              "  <tbody>\n",
              "    <tr>\n",
              "      <th>12346</th>\n",
              "      <td>2010-10-04 16:33:00</td>\n",
              "    </tr>\n",
              "    <tr>\n",
              "      <th>12347</th>\n",
              "      <td>2010-12-07 14:57:00</td>\n",
              "    </tr>\n",
              "    <tr>\n",
              "      <th>12348</th>\n",
              "      <td>2010-09-27 14:59:00</td>\n",
              "    </tr>\n",
              "    <tr>\n",
              "      <th>12349</th>\n",
              "      <td>2010-10-28 08:23:00</td>\n",
              "    </tr>\n",
              "    <tr>\n",
              "      <th>12351</th>\n",
              "      <td>2010-11-29 15:23:00</td>\n",
              "    </tr>\n",
              "  </tbody>\n",
              "</table>\n",
              "</div>"
            ],
            "text/plain": [
              "                    InvoiceDate\n",
              "Customer ID                    \n",
              "12346       2010-10-04 16:33:00\n",
              "12347       2010-12-07 14:57:00\n",
              "12348       2010-09-27 14:59:00\n",
              "12349       2010-10-28 08:23:00\n",
              "12351       2010-11-29 15:23:00"
            ]
          },
          "execution_count": 28,
          "metadata": {},
          "output_type": "execute_result"
        }
      ],
      "source": [
        "df.groupby(\"Customer ID\").agg({\"InvoiceDate\":\"max\"}).head()"
      ]
    },
    {
      "cell_type": "markdown",
      "metadata": {
        "id": "jvyuFgK0teQx"
      },
      "source": [
        "Now we have the last shopping dates of each customer. Let's fix \"Customer ID\"s."
      ]
    },
    {
      "cell_type": "code",
      "execution_count": null,
      "metadata": {
        "id": "3saWN9oZteQz"
      },
      "outputs": [],
      "source": [
        "df[\"Customer ID\"] = df[\"Customer ID\"].astype(int)"
      ]
    },
    {
      "cell_type": "markdown",
      "metadata": {
        "id": "cKaNff9zteQz"
      },
      "source": [
        "## 12. What should we do for customer segmentation with RFM?"
      ]
    },
    {
      "cell_type": "markdown",
      "metadata": {
        "id": "vDC9Rl_DteQz"
      },
      "source": [
        "For each customer, we need to deduce the customers' last purchase date from today's date.\n",
        "\n",
        "Then we have singularized customer deadlines."
      ]
    },
    {
      "cell_type": "code",
      "execution_count": null,
      "metadata": {
        "id": "41XHF31WteQ1",
        "outputId": "2e9058f4-e4a6-415f-9e83-f20fde34ed28"
      },
      "outputs": [
        {
          "data": {
            "text/html": [
              "<div>\n",
              "<style scoped>\n",
              "    .dataframe tbody tr th:only-of-type {\n",
              "        vertical-align: middle;\n",
              "    }\n",
              "\n",
              "    .dataframe tbody tr th {\n",
              "        vertical-align: top;\n",
              "    }\n",
              "\n",
              "    .dataframe thead th {\n",
              "        text-align: right;\n",
              "    }\n",
              "</style>\n",
              "<table border=\"1\" class=\"dataframe\">\n",
              "  <thead>\n",
              "    <tr style=\"text-align: right;\">\n",
              "      <th></th>\n",
              "      <th>InvoiceDate</th>\n",
              "    </tr>\n",
              "    <tr>\n",
              "      <th>Customer ID</th>\n",
              "      <th></th>\n",
              "    </tr>\n",
              "  </thead>\n",
              "  <tbody>\n",
              "    <tr>\n",
              "      <th>12346</th>\n",
              "      <td>65 days 07:27:00</td>\n",
              "    </tr>\n",
              "    <tr>\n",
              "      <th>12347</th>\n",
              "      <td>1 days 09:03:00</td>\n",
              "    </tr>\n",
              "    <tr>\n",
              "      <th>12348</th>\n",
              "      <td>72 days 09:01:00</td>\n",
              "    </tr>\n",
              "    <tr>\n",
              "      <th>12349</th>\n",
              "      <td>41 days 15:37:00</td>\n",
              "    </tr>\n",
              "    <tr>\n",
              "      <th>12351</th>\n",
              "      <td>9 days 08:37:00</td>\n",
              "    </tr>\n",
              "  </tbody>\n",
              "</table>\n",
              "</div>"
            ],
            "text/plain": [
              "                 InvoiceDate\n",
              "Customer ID                 \n",
              "12346       65 days 07:27:00\n",
              "12347        1 days 09:03:00\n",
              "12348       72 days 09:01:00\n",
              "12349       41 days 15:37:00\n",
              "12351        9 days 08:37:00"
            ]
          },
          "execution_count": 30,
          "metadata": {},
          "output_type": "execute_result"
        }
      ],
      "source": [
        "(today_date - df.groupby(\"Customer ID\").agg({\"InvoiceDate\":\"max\"})).head()"
      ]
    },
    {
      "cell_type": "code",
      "execution_count": null,
      "metadata": {
        "id": "U-h_SQpdteQ2"
      },
      "outputs": [],
      "source": [
        "temp_df = (today_date - df.groupby(\"Customer ID\").agg({\"InvoiceDate\":\"max\"}))"
      ]
    },
    {
      "cell_type": "code",
      "execution_count": null,
      "metadata": {
        "id": "wSENdClXteQ2"
      },
      "outputs": [],
      "source": [
        "temp_df.rename(columns={\"InvoiceDate\": \"Recency\"}, inplace = True)"
      ]
    },
    {
      "cell_type": "code",
      "execution_count": null,
      "metadata": {
        "id": "tdRrWTLvteQ3",
        "outputId": "ce88b760-7106-4033-f037-2637185089fc"
      },
      "outputs": [
        {
          "data": {
            "text/html": [
              "<div>\n",
              "<style scoped>\n",
              "    .dataframe tbody tr th:only-of-type {\n",
              "        vertical-align: middle;\n",
              "    }\n",
              "\n",
              "    .dataframe tbody tr th {\n",
              "        vertical-align: top;\n",
              "    }\n",
              "\n",
              "    .dataframe thead th {\n",
              "        text-align: right;\n",
              "    }\n",
              "</style>\n",
              "<table border=\"1\" class=\"dataframe\">\n",
              "  <thead>\n",
              "    <tr style=\"text-align: right;\">\n",
              "      <th></th>\n",
              "      <th>Recency</th>\n",
              "    </tr>\n",
              "    <tr>\n",
              "      <th>Customer ID</th>\n",
              "      <th></th>\n",
              "    </tr>\n",
              "  </thead>\n",
              "  <tbody>\n",
              "    <tr>\n",
              "      <th>12346</th>\n",
              "      <td>65 days 07:27:00</td>\n",
              "    </tr>\n",
              "    <tr>\n",
              "      <th>12347</th>\n",
              "      <td>1 days 09:03:00</td>\n",
              "    </tr>\n",
              "    <tr>\n",
              "      <th>12348</th>\n",
              "      <td>72 days 09:01:00</td>\n",
              "    </tr>\n",
              "    <tr>\n",
              "      <th>12349</th>\n",
              "      <td>41 days 15:37:00</td>\n",
              "    </tr>\n",
              "    <tr>\n",
              "      <th>12351</th>\n",
              "      <td>9 days 08:37:00</td>\n",
              "    </tr>\n",
              "  </tbody>\n",
              "</table>\n",
              "</div>"
            ],
            "text/plain": [
              "                     Recency\n",
              "Customer ID                 \n",
              "12346       65 days 07:27:00\n",
              "12347        1 days 09:03:00\n",
              "12348       72 days 09:01:00\n",
              "12349       41 days 15:37:00\n",
              "12351        9 days 08:37:00"
            ]
          },
          "execution_count": 33,
          "metadata": {},
          "output_type": "execute_result"
        }
      ],
      "source": [
        "temp_df.head()"
      ]
    },
    {
      "cell_type": "code",
      "execution_count": null,
      "metadata": {
        "id": "ZzO4xE4kteQ3"
      },
      "outputs": [],
      "source": [
        "recency_df = temp_df[\"Recency\"].apply(lambda x: x.days)"
      ]
    },
    {
      "cell_type": "code",
      "execution_count": null,
      "metadata": {
        "id": "k-bPenirteQ3",
        "outputId": "614e8649-0d6e-449e-d911-02567c8f3cd6"
      },
      "outputs": [
        {
          "data": {
            "text/plain": [
              "Customer ID\n",
              "12346    65\n",
              "12347     1\n",
              "12348    72\n",
              "12349    41\n",
              "12351     9\n",
              "Name: Recency, dtype: int64"
            ]
          },
          "execution_count": 35,
          "metadata": {},
          "output_type": "execute_result"
        }
      ],
      "source": [
        "recency_df.head()"
      ]
    },
    {
      "cell_type": "code",
      "execution_count": null,
      "metadata": {
        "id": "UPatXubFteQ4"
      },
      "outputs": [],
      "source": [
        "#df.groupby(\"Customer ID\").agg({\"InvoiceDate\": lambda x: (today_date - x.max()).days}).head()"
      ]
    },
    {
      "cell_type": "markdown",
      "metadata": {
        "id": "-8wwiTnpteQ5"
      },
      "source": [
        "# Frequency"
      ]
    },
    {
      "cell_type": "code",
      "execution_count": null,
      "metadata": {
        "id": "-C856l1zteQ7"
      },
      "outputs": [],
      "source": [
        "temp_df = df.groupby([\"Customer ID\",\"Invoice\"]).agg({\"Invoice\":\"count\"})"
      ]
    },
    {
      "cell_type": "code",
      "execution_count": null,
      "metadata": {
        "id": "mbQsBQCxteQ8",
        "outputId": "03d0694c-9e69-4019-dd2b-c8546c87116f"
      },
      "outputs": [
        {
          "data": {
            "text/html": [
              "<div>\n",
              "<style scoped>\n",
              "    .dataframe tbody tr th:only-of-type {\n",
              "        vertical-align: middle;\n",
              "    }\n",
              "\n",
              "    .dataframe tbody tr th {\n",
              "        vertical-align: top;\n",
              "    }\n",
              "\n",
              "    .dataframe thead th {\n",
              "        text-align: right;\n",
              "    }\n",
              "</style>\n",
              "<table border=\"1\" class=\"dataframe\">\n",
              "  <thead>\n",
              "    <tr style=\"text-align: right;\">\n",
              "      <th></th>\n",
              "      <th></th>\n",
              "      <th>Invoice</th>\n",
              "    </tr>\n",
              "    <tr>\n",
              "      <th>Customer ID</th>\n",
              "      <th>Invoice</th>\n",
              "      <th></th>\n",
              "    </tr>\n",
              "  </thead>\n",
              "  <tbody>\n",
              "    <tr>\n",
              "      <th rowspan=\"5\" valign=\"top\">12346</th>\n",
              "      <th>491725</th>\n",
              "      <td>1</td>\n",
              "    </tr>\n",
              "    <tr>\n",
              "      <th>491742</th>\n",
              "      <td>1</td>\n",
              "    </tr>\n",
              "    <tr>\n",
              "      <th>491744</th>\n",
              "      <td>1</td>\n",
              "    </tr>\n",
              "    <tr>\n",
              "      <th>492718</th>\n",
              "      <td>1</td>\n",
              "    </tr>\n",
              "    <tr>\n",
              "      <th>492722</th>\n",
              "      <td>1</td>\n",
              "    </tr>\n",
              "  </tbody>\n",
              "</table>\n",
              "</div>"
            ],
            "text/plain": [
              "                     Invoice\n",
              "Customer ID Invoice         \n",
              "12346       491725         1\n",
              "            491742         1\n",
              "            491744         1\n",
              "            492718         1\n",
              "            492722         1"
            ]
          },
          "execution_count": 38,
          "metadata": {},
          "output_type": "execute_result"
        }
      ],
      "source": [
        "temp_df.head()"
      ]
    },
    {
      "cell_type": "code",
      "execution_count": null,
      "metadata": {
        "id": "SpkRymvwteQ8",
        "outputId": "e70fd898-3747-4ce4-c988-4a8ce43f84b3"
      },
      "outputs": [
        {
          "data": {
            "text/html": [
              "<div>\n",
              "<style scoped>\n",
              "    .dataframe tbody tr th:only-of-type {\n",
              "        vertical-align: middle;\n",
              "    }\n",
              "\n",
              "    .dataframe tbody tr th {\n",
              "        vertical-align: top;\n",
              "    }\n",
              "\n",
              "    .dataframe thead th {\n",
              "        text-align: right;\n",
              "    }\n",
              "</style>\n",
              "<table border=\"1\" class=\"dataframe\">\n",
              "  <thead>\n",
              "    <tr style=\"text-align: right;\">\n",
              "      <th></th>\n",
              "      <th>Invoice</th>\n",
              "    </tr>\n",
              "    <tr>\n",
              "      <th>Customer ID</th>\n",
              "      <th></th>\n",
              "    </tr>\n",
              "  </thead>\n",
              "  <tbody>\n",
              "    <tr>\n",
              "      <th>12346</th>\n",
              "      <td>15</td>\n",
              "    </tr>\n",
              "    <tr>\n",
              "      <th>12347</th>\n",
              "      <td>2</td>\n",
              "    </tr>\n",
              "    <tr>\n",
              "      <th>12348</th>\n",
              "      <td>1</td>\n",
              "    </tr>\n",
              "    <tr>\n",
              "      <th>12349</th>\n",
              "      <td>4</td>\n",
              "    </tr>\n",
              "    <tr>\n",
              "      <th>12351</th>\n",
              "      <td>1</td>\n",
              "    </tr>\n",
              "  </tbody>\n",
              "</table>\n",
              "</div>"
            ],
            "text/plain": [
              "             Invoice\n",
              "Customer ID         \n",
              "12346             15\n",
              "12347              2\n",
              "12348              1\n",
              "12349              4\n",
              "12351              1"
            ]
          },
          "execution_count": 39,
          "metadata": {},
          "output_type": "execute_result"
        }
      ],
      "source": [
        "temp_df.groupby(\"Customer ID\").agg({\"Invoice\":\"count\"}).head()"
      ]
    },
    {
      "cell_type": "code",
      "execution_count": null,
      "metadata": {
        "id": "t4F0MHjvteQ9",
        "outputId": "9404e9f4-7907-464f-e8a3-fc066a1cfbc1"
      },
      "outputs": [
        {
          "data": {
            "text/html": [
              "<div>\n",
              "<style scoped>\n",
              "    .dataframe tbody tr th:only-of-type {\n",
              "        vertical-align: middle;\n",
              "    }\n",
              "\n",
              "    .dataframe tbody tr th {\n",
              "        vertical-align: top;\n",
              "    }\n",
              "\n",
              "    .dataframe thead th {\n",
              "        text-align: right;\n",
              "    }\n",
              "</style>\n",
              "<table border=\"1\" class=\"dataframe\">\n",
              "  <thead>\n",
              "    <tr style=\"text-align: right;\">\n",
              "      <th></th>\n",
              "      <th>Frequency</th>\n",
              "    </tr>\n",
              "    <tr>\n",
              "      <th>Customer ID</th>\n",
              "      <th></th>\n",
              "    </tr>\n",
              "  </thead>\n",
              "  <tbody>\n",
              "    <tr>\n",
              "      <th>12346</th>\n",
              "      <td>46</td>\n",
              "    </tr>\n",
              "    <tr>\n",
              "      <th>12347</th>\n",
              "      <td>71</td>\n",
              "    </tr>\n",
              "    <tr>\n",
              "      <th>12348</th>\n",
              "      <td>20</td>\n",
              "    </tr>\n",
              "    <tr>\n",
              "      <th>12349</th>\n",
              "      <td>107</td>\n",
              "    </tr>\n",
              "    <tr>\n",
              "      <th>12351</th>\n",
              "      <td>21</td>\n",
              "    </tr>\n",
              "  </tbody>\n",
              "</table>\n",
              "</div>"
            ],
            "text/plain": [
              "             Frequency\n",
              "Customer ID           \n",
              "12346               46\n",
              "12347               71\n",
              "12348               20\n",
              "12349              107\n",
              "12351               21"
            ]
          },
          "execution_count": 40,
          "metadata": {},
          "output_type": "execute_result"
        }
      ],
      "source": [
        "freq_df = temp_df.groupby(\"Customer ID\").agg({\"Invoice\":\"sum\"})\n",
        "freq_df.rename(columns={\"Invoice\": \"Frequency\"}, inplace = True)\n",
        "freq_df.head()"
      ]
    },
    {
      "cell_type": "markdown",
      "metadata": {
        "id": "jyHVCQDSteQ9"
      },
      "source": [
        "# Monetary"
      ]
    },
    {
      "cell_type": "code",
      "execution_count": null,
      "metadata": {
        "id": "d3bVVDwYteQ_"
      },
      "outputs": [],
      "source": [
        "monetary_df = df.groupby(\"Customer ID\").agg({\"TotalPrice\":\"sum\"})"
      ]
    },
    {
      "cell_type": "code",
      "execution_count": null,
      "metadata": {
        "id": "ul7oyAv8teQ_",
        "outputId": "9637b379-f72b-4830-fb8e-21e99f813762"
      },
      "outputs": [
        {
          "data": {
            "text/html": [
              "<div>\n",
              "<style scoped>\n",
              "    .dataframe tbody tr th:only-of-type {\n",
              "        vertical-align: middle;\n",
              "    }\n",
              "\n",
              "    .dataframe tbody tr th {\n",
              "        vertical-align: top;\n",
              "    }\n",
              "\n",
              "    .dataframe thead th {\n",
              "        text-align: right;\n",
              "    }\n",
              "</style>\n",
              "<table border=\"1\" class=\"dataframe\">\n",
              "  <thead>\n",
              "    <tr style=\"text-align: right;\">\n",
              "      <th></th>\n",
              "      <th>TotalPrice</th>\n",
              "    </tr>\n",
              "    <tr>\n",
              "      <th>Customer ID</th>\n",
              "      <th></th>\n",
              "    </tr>\n",
              "  </thead>\n",
              "  <tbody>\n",
              "    <tr>\n",
              "      <th>12346</th>\n",
              "      <td>-65</td>\n",
              "    </tr>\n",
              "    <tr>\n",
              "      <th>12347</th>\n",
              "      <td>1323</td>\n",
              "    </tr>\n",
              "    <tr>\n",
              "      <th>12348</th>\n",
              "      <td>222</td>\n",
              "    </tr>\n",
              "    <tr>\n",
              "      <th>12349</th>\n",
              "      <td>2647</td>\n",
              "    </tr>\n",
              "    <tr>\n",
              "      <th>12351</th>\n",
              "      <td>301</td>\n",
              "    </tr>\n",
              "  </tbody>\n",
              "</table>\n",
              "</div>"
            ],
            "text/plain": [
              "             TotalPrice\n",
              "Customer ID            \n",
              "12346               -65\n",
              "12347              1323\n",
              "12348               222\n",
              "12349              2647\n",
              "12351               301"
            ]
          },
          "execution_count": 42,
          "metadata": {},
          "output_type": "execute_result"
        }
      ],
      "source": [
        "monetary_df.head()"
      ]
    },
    {
      "cell_type": "code",
      "execution_count": null,
      "metadata": {
        "id": "6wZwUsfZteRA"
      },
      "outputs": [],
      "source": [
        "# lets change names\n",
        "\n",
        "monetary_df.rename(columns={\"TotalPrice\": \"Monetary\"}, inplace = True)"
      ]
    },
    {
      "cell_type": "code",
      "execution_count": null,
      "metadata": {
        "id": "s26cvZvRteRA",
        "outputId": "4a8917ad-233d-40a8-84d9-b558a1019523"
      },
      "outputs": [
        {
          "name": "stdout",
          "output_type": "stream",
          "text": [
            "(4383,) (4383, 1) (4383, 1)\n"
          ]
        }
      ],
      "source": [
        "print(recency_df.shape,freq_df.shape,monetary_df.shape)"
      ]
    },
    {
      "cell_type": "code",
      "execution_count": null,
      "metadata": {
        "id": "DVPcabYeteRC"
      },
      "outputs": [],
      "source": [
        "rfm = pd.concat([recency_df, freq_df, monetary_df],  axis=1)"
      ]
    },
    {
      "cell_type": "code",
      "execution_count": null,
      "metadata": {
        "id": "hKfUwPb3teRC",
        "outputId": "f5a1a8ca-75ad-4761-97df-817c7756a154"
      },
      "outputs": [
        {
          "data": {
            "text/html": [
              "<div>\n",
              "<style scoped>\n",
              "    .dataframe tbody tr th:only-of-type {\n",
              "        vertical-align: middle;\n",
              "    }\n",
              "\n",
              "    .dataframe tbody tr th {\n",
              "        vertical-align: top;\n",
              "    }\n",
              "\n",
              "    .dataframe thead th {\n",
              "        text-align: right;\n",
              "    }\n",
              "</style>\n",
              "<table border=\"1\" class=\"dataframe\">\n",
              "  <thead>\n",
              "    <tr style=\"text-align: right;\">\n",
              "      <th></th>\n",
              "      <th>Recency</th>\n",
              "      <th>Frequency</th>\n",
              "      <th>Monetary</th>\n",
              "    </tr>\n",
              "    <tr>\n",
              "      <th>Customer ID</th>\n",
              "      <th></th>\n",
              "      <th></th>\n",
              "      <th></th>\n",
              "    </tr>\n",
              "  </thead>\n",
              "  <tbody>\n",
              "    <tr>\n",
              "      <th>12346</th>\n",
              "      <td>65</td>\n",
              "      <td>46</td>\n",
              "      <td>-65</td>\n",
              "    </tr>\n",
              "    <tr>\n",
              "      <th>12347</th>\n",
              "      <td>1</td>\n",
              "      <td>71</td>\n",
              "      <td>1323</td>\n",
              "    </tr>\n",
              "    <tr>\n",
              "      <th>12348</th>\n",
              "      <td>72</td>\n",
              "      <td>20</td>\n",
              "      <td>222</td>\n",
              "    </tr>\n",
              "    <tr>\n",
              "      <th>12349</th>\n",
              "      <td>41</td>\n",
              "      <td>107</td>\n",
              "      <td>2647</td>\n",
              "    </tr>\n",
              "    <tr>\n",
              "      <th>12351</th>\n",
              "      <td>9</td>\n",
              "      <td>21</td>\n",
              "      <td>301</td>\n",
              "    </tr>\n",
              "  </tbody>\n",
              "</table>\n",
              "</div>"
            ],
            "text/plain": [
              "             Recency  Frequency  Monetary\n",
              "Customer ID                              \n",
              "12346             65         46       -65\n",
              "12347              1         71      1323\n",
              "12348             72         20       222\n",
              "12349             41        107      2647\n",
              "12351              9         21       301"
            ]
          },
          "execution_count": 46,
          "metadata": {},
          "output_type": "execute_result"
        }
      ],
      "source": [
        "rfm.head()"
      ]
    },
    {
      "cell_type": "markdown",
      "metadata": {
        "id": "MOvVRFLUteRD"
      },
      "source": [
        "## Now, we need to score according to the most recent (Recency), the cyclic (Frequency) and the monetary expenditure (Monetary)."
      ]
    },
    {
      "cell_type": "markdown",
      "metadata": {
        "id": "2guYxoCQteRL"
      },
      "source": [
        "## 13. Scoring for RFM\n",
        "\n",
        "- Let's start with the last 5 here. Let's use the 'qcut' method to score."
      ]
    },
    {
      "cell_type": "code",
      "execution_count": null,
      "metadata": {
        "id": "YZp8IlsnteRL"
      },
      "outputs": [],
      "source": [
        "rfm[\"RecencyScore\"] = pd.qcut(rfm['Recency'], 5, labels = [5, 4, 3, 2, 1])   "
      ]
    },
    {
      "cell_type": "code",
      "execution_count": null,
      "metadata": {
        "id": "Js4bSZ8DteRM"
      },
      "outputs": [],
      "source": [
        "rfm[\"FrequencyScore\"] = pd.qcut(rfm['Frequency'].rank(method = \"first\"), 5, labels = [1, 2, 3, 4, 5])"
      ]
    },
    {
      "cell_type": "code",
      "execution_count": null,
      "metadata": {
        "id": "Ge69pmOiteRM"
      },
      "outputs": [],
      "source": [
        "rfm[\"MonetaryScore\"] = pd.qcut(rfm['Monetary'], 5, labels = [1, 2, 3, 4, 5])"
      ]
    },
    {
      "cell_type": "code",
      "execution_count": null,
      "metadata": {
        "id": "frc8RMphteRN",
        "outputId": "7cf33081-b627-4471-f50f-eb6e2ebef40b"
      },
      "outputs": [
        {
          "data": {
            "text/html": [
              "<div>\n",
              "<style scoped>\n",
              "    .dataframe tbody tr th:only-of-type {\n",
              "        vertical-align: middle;\n",
              "    }\n",
              "\n",
              "    .dataframe tbody tr th {\n",
              "        vertical-align: top;\n",
              "    }\n",
              "\n",
              "    .dataframe thead th {\n",
              "        text-align: right;\n",
              "    }\n",
              "</style>\n",
              "<table border=\"1\" class=\"dataframe\">\n",
              "  <thead>\n",
              "    <tr style=\"text-align: right;\">\n",
              "      <th></th>\n",
              "      <th>Recency</th>\n",
              "      <th>Frequency</th>\n",
              "      <th>Monetary</th>\n",
              "      <th>RecencyScore</th>\n",
              "      <th>FrequencyScore</th>\n",
              "      <th>MonetaryScore</th>\n",
              "    </tr>\n",
              "    <tr>\n",
              "      <th>Customer ID</th>\n",
              "      <th></th>\n",
              "      <th></th>\n",
              "      <th></th>\n",
              "      <th></th>\n",
              "      <th></th>\n",
              "      <th></th>\n",
              "    </tr>\n",
              "  </thead>\n",
              "  <tbody>\n",
              "    <tr>\n",
              "      <th>12346</th>\n",
              "      <td>65</td>\n",
              "      <td>46</td>\n",
              "      <td>-65</td>\n",
              "      <td>3</td>\n",
              "      <td>3</td>\n",
              "      <td>1</td>\n",
              "    </tr>\n",
              "    <tr>\n",
              "      <th>12347</th>\n",
              "      <td>1</td>\n",
              "      <td>71</td>\n",
              "      <td>1323</td>\n",
              "      <td>5</td>\n",
              "      <td>4</td>\n",
              "      <td>4</td>\n",
              "    </tr>\n",
              "    <tr>\n",
              "      <th>12348</th>\n",
              "      <td>72</td>\n",
              "      <td>20</td>\n",
              "      <td>222</td>\n",
              "      <td>2</td>\n",
              "      <td>2</td>\n",
              "      <td>1</td>\n",
              "    </tr>\n",
              "    <tr>\n",
              "      <th>12349</th>\n",
              "      <td>41</td>\n",
              "      <td>107</td>\n",
              "      <td>2647</td>\n",
              "      <td>3</td>\n",
              "      <td>4</td>\n",
              "      <td>5</td>\n",
              "    </tr>\n",
              "    <tr>\n",
              "      <th>12351</th>\n",
              "      <td>9</td>\n",
              "      <td>21</td>\n",
              "      <td>301</td>\n",
              "      <td>5</td>\n",
              "      <td>2</td>\n",
              "      <td>2</td>\n",
              "    </tr>\n",
              "  </tbody>\n",
              "</table>\n",
              "</div>"
            ],
            "text/plain": [
              "             Recency  Frequency  Monetary RecencyScore FrequencyScore  \\\n",
              "Customer ID                                                             \n",
              "12346             65         46       -65            3              3   \n",
              "12347              1         71      1323            5              4   \n",
              "12348             72         20       222            2              2   \n",
              "12349             41        107      2647            3              4   \n",
              "12351              9         21       301            5              2   \n",
              "\n",
              "            MonetaryScore  \n",
              "Customer ID                \n",
              "12346                   1  \n",
              "12347                   4  \n",
              "12348                   1  \n",
              "12349                   5  \n",
              "12351                   2  "
            ]
          },
          "execution_count": 50,
          "metadata": {},
          "output_type": "execute_result"
        }
      ],
      "source": [
        "rfm.head()"
      ]
    },
    {
      "cell_type": "markdown",
      "metadata": {
        "id": "VC5f28C1teRN"
      },
      "source": [
        "Let's write code with RFM values side by side"
      ]
    },
    {
      "cell_type": "code",
      "execution_count": null,
      "metadata": {
        "id": "hklu0OS2teRN",
        "outputId": "7a32b2db-0625-4afa-cda5-9d7e04d7d293"
      },
      "outputs": [
        {
          "data": {
            "text/plain": [
              "Customer ID\n",
              "12346    331\n",
              "12347    544\n",
              "12348    221\n",
              "12349    345\n",
              "12351    522\n",
              "dtype: object"
            ]
          },
          "execution_count": 51,
          "metadata": {},
          "output_type": "execute_result"
        }
      ],
      "source": [
        "(rfm['RecencyScore'].astype(str) + \n",
        " rfm['FrequencyScore'].astype(str) + \n",
        " rfm['MonetaryScore'].astype(str)).head()"
      ]
    },
    {
      "cell_type": "code",
      "execution_count": null,
      "metadata": {
        "id": "-bSVQwZ2teRO"
      },
      "outputs": [],
      "source": [
        "rfm[\"RFM_SCORE\"] = rfm['RecencyScore'].astype(str) + rfm['FrequencyScore'].astype(str) + rfm['MonetaryScore'].astype(str)"
      ]
    },
    {
      "cell_type": "code",
      "execution_count": null,
      "metadata": {
        "id": "qNBA6CX1teRm",
        "outputId": "f0b7b256-68b3-4301-8e9e-69a42a609e28"
      },
      "outputs": [
        {
          "data": {
            "text/html": [
              "<div>\n",
              "<style scoped>\n",
              "    .dataframe tbody tr th:only-of-type {\n",
              "        vertical-align: middle;\n",
              "    }\n",
              "\n",
              "    .dataframe tbody tr th {\n",
              "        vertical-align: top;\n",
              "    }\n",
              "\n",
              "    .dataframe thead th {\n",
              "        text-align: right;\n",
              "    }\n",
              "</style>\n",
              "<table border=\"1\" class=\"dataframe\">\n",
              "  <thead>\n",
              "    <tr style=\"text-align: right;\">\n",
              "      <th></th>\n",
              "      <th>Recency</th>\n",
              "      <th>Frequency</th>\n",
              "      <th>Monetary</th>\n",
              "      <th>RecencyScore</th>\n",
              "      <th>FrequencyScore</th>\n",
              "      <th>MonetaryScore</th>\n",
              "      <th>RFM_SCORE</th>\n",
              "    </tr>\n",
              "    <tr>\n",
              "      <th>Customer ID</th>\n",
              "      <th></th>\n",
              "      <th></th>\n",
              "      <th></th>\n",
              "      <th></th>\n",
              "      <th></th>\n",
              "      <th></th>\n",
              "      <th></th>\n",
              "    </tr>\n",
              "  </thead>\n",
              "  <tbody>\n",
              "    <tr>\n",
              "      <th>12346</th>\n",
              "      <td>65</td>\n",
              "      <td>46</td>\n",
              "      <td>-65</td>\n",
              "      <td>3</td>\n",
              "      <td>3</td>\n",
              "      <td>1</td>\n",
              "      <td>331</td>\n",
              "    </tr>\n",
              "    <tr>\n",
              "      <th>12347</th>\n",
              "      <td>1</td>\n",
              "      <td>71</td>\n",
              "      <td>1323</td>\n",
              "      <td>5</td>\n",
              "      <td>4</td>\n",
              "      <td>4</td>\n",
              "      <td>544</td>\n",
              "    </tr>\n",
              "    <tr>\n",
              "      <th>12348</th>\n",
              "      <td>72</td>\n",
              "      <td>20</td>\n",
              "      <td>222</td>\n",
              "      <td>2</td>\n",
              "      <td>2</td>\n",
              "      <td>1</td>\n",
              "      <td>221</td>\n",
              "    </tr>\n",
              "    <tr>\n",
              "      <th>12349</th>\n",
              "      <td>41</td>\n",
              "      <td>107</td>\n",
              "      <td>2647</td>\n",
              "      <td>3</td>\n",
              "      <td>4</td>\n",
              "      <td>5</td>\n",
              "      <td>345</td>\n",
              "    </tr>\n",
              "    <tr>\n",
              "      <th>12351</th>\n",
              "      <td>9</td>\n",
              "      <td>21</td>\n",
              "      <td>301</td>\n",
              "      <td>5</td>\n",
              "      <td>2</td>\n",
              "      <td>2</td>\n",
              "      <td>522</td>\n",
              "    </tr>\n",
              "  </tbody>\n",
              "</table>\n",
              "</div>"
            ],
            "text/plain": [
              "             Recency  Frequency  Monetary RecencyScore FrequencyScore  \\\n",
              "Customer ID                                                             \n",
              "12346             65         46       -65            3              3   \n",
              "12347              1         71      1323            5              4   \n",
              "12348             72         20       222            2              2   \n",
              "12349             41        107      2647            3              4   \n",
              "12351              9         21       301            5              2   \n",
              "\n",
              "            MonetaryScore RFM_SCORE  \n",
              "Customer ID                          \n",
              "12346                   1       331  \n",
              "12347                   4       544  \n",
              "12348                   1       221  \n",
              "12349                   5       345  \n",
              "12351                   2       522  "
            ]
          },
          "execution_count": 53,
          "metadata": {},
          "output_type": "execute_result"
        }
      ],
      "source": [
        "rfm.head()"
      ]
    },
    {
      "cell_type": "code",
      "execution_count": null,
      "metadata": {
        "id": "3K2CbO1MteRm",
        "outputId": "3c8240b6-8e43-464d-9e36-e23b3496db2a"
      },
      "outputs": [
        {
          "data": {
            "text/html": [
              "<div>\n",
              "<style scoped>\n",
              "    .dataframe tbody tr th:only-of-type {\n",
              "        vertical-align: middle;\n",
              "    }\n",
              "\n",
              "    .dataframe tbody tr th {\n",
              "        vertical-align: top;\n",
              "    }\n",
              "\n",
              "    .dataframe thead th {\n",
              "        text-align: right;\n",
              "    }\n",
              "</style>\n",
              "<table border=\"1\" class=\"dataframe\">\n",
              "  <thead>\n",
              "    <tr style=\"text-align: right;\">\n",
              "      <th></th>\n",
              "      <th>count</th>\n",
              "      <th>mean</th>\n",
              "      <th>std</th>\n",
              "      <th>min</th>\n",
              "      <th>25%</th>\n",
              "      <th>50%</th>\n",
              "      <th>75%</th>\n",
              "      <th>max</th>\n",
              "    </tr>\n",
              "  </thead>\n",
              "  <tbody>\n",
              "    <tr>\n",
              "      <th>Recency</th>\n",
              "      <td>4383</td>\n",
              "      <td>89</td>\n",
              "      <td>98</td>\n",
              "      <td>-1</td>\n",
              "      <td>15</td>\n",
              "      <td>50</td>\n",
              "      <td>136</td>\n",
              "      <td>372</td>\n",
              "    </tr>\n",
              "    <tr>\n",
              "      <th>Frequency</th>\n",
              "      <td>4383</td>\n",
              "      <td>95</td>\n",
              "      <td>205</td>\n",
              "      <td>1</td>\n",
              "      <td>18</td>\n",
              "      <td>44</td>\n",
              "      <td>103</td>\n",
              "      <td>5710</td>\n",
              "    </tr>\n",
              "    <tr>\n",
              "      <th>Monetary</th>\n",
              "      <td>4383</td>\n",
              "      <td>1905</td>\n",
              "      <td>8519</td>\n",
              "      <td>-25111</td>\n",
              "      <td>285</td>\n",
              "      <td>656</td>\n",
              "      <td>1646</td>\n",
              "      <td>341777</td>\n",
              "    </tr>\n",
              "  </tbody>\n",
              "</table>\n",
              "</div>"
            ],
            "text/plain": [
              "           count  mean  std    min  25%  50%  75%    max\n",
              "Recency     4383    89   98     -1   15   50  136    372\n",
              "Frequency   4383    95  205      1   18   44  103   5710\n",
              "Monetary    4383  1905 8519 -25111  285  656 1646 341777"
            ]
          },
          "execution_count": 54,
          "metadata": {},
          "output_type": "execute_result"
        }
      ],
      "source": [
        "rfm.describe().T"
      ]
    },
    {
      "cell_type": "markdown",
      "metadata": {
        "id": "uP0oLbPBteRn"
      },
      "source": [
        "If we rank 5 points out of 3, 555 are champions."
      ]
    },
    {
      "cell_type": "code",
      "execution_count": null,
      "metadata": {
        "id": "3LE6jC4DteRo",
        "outputId": "e4a058ba-8b75-44e1-be22-c8796677f44d"
      },
      "outputs": [
        {
          "data": {
            "text/html": [
              "<div>\n",
              "<style scoped>\n",
              "    .dataframe tbody tr th:only-of-type {\n",
              "        vertical-align: middle;\n",
              "    }\n",
              "\n",
              "    .dataframe tbody tr th {\n",
              "        vertical-align: top;\n",
              "    }\n",
              "\n",
              "    .dataframe thead th {\n",
              "        text-align: right;\n",
              "    }\n",
              "</style>\n",
              "<table border=\"1\" class=\"dataframe\">\n",
              "  <thead>\n",
              "    <tr style=\"text-align: right;\">\n",
              "      <th></th>\n",
              "      <th>Recency</th>\n",
              "      <th>Frequency</th>\n",
              "      <th>Monetary</th>\n",
              "      <th>RecencyScore</th>\n",
              "      <th>FrequencyScore</th>\n",
              "      <th>MonetaryScore</th>\n",
              "      <th>RFM_SCORE</th>\n",
              "    </tr>\n",
              "    <tr>\n",
              "      <th>Customer ID</th>\n",
              "      <th></th>\n",
              "      <th></th>\n",
              "      <th></th>\n",
              "      <th></th>\n",
              "      <th></th>\n",
              "      <th></th>\n",
              "      <th></th>\n",
              "    </tr>\n",
              "  </thead>\n",
              "  <tbody>\n",
              "    <tr>\n",
              "      <th>12415</th>\n",
              "      <td>9</td>\n",
              "      <td>212</td>\n",
              "      <td>19544</td>\n",
              "      <td>5</td>\n",
              "      <td>5</td>\n",
              "      <td>5</td>\n",
              "      <td>555</td>\n",
              "    </tr>\n",
              "    <tr>\n",
              "      <th>12431</th>\n",
              "      <td>7</td>\n",
              "      <td>173</td>\n",
              "      <td>4303</td>\n",
              "      <td>5</td>\n",
              "      <td>5</td>\n",
              "      <td>5</td>\n",
              "      <td>555</td>\n",
              "    </tr>\n",
              "    <tr>\n",
              "      <th>12433</th>\n",
              "      <td>0</td>\n",
              "      <td>287</td>\n",
              "      <td>7053</td>\n",
              "      <td>5</td>\n",
              "      <td>5</td>\n",
              "      <td>5</td>\n",
              "      <td>555</td>\n",
              "    </tr>\n",
              "    <tr>\n",
              "      <th>12471</th>\n",
              "      <td>6</td>\n",
              "      <td>767</td>\n",
              "      <td>19208</td>\n",
              "      <td>5</td>\n",
              "      <td>5</td>\n",
              "      <td>5</td>\n",
              "      <td>555</td>\n",
              "    </tr>\n",
              "    <tr>\n",
              "      <th>12472</th>\n",
              "      <td>3</td>\n",
              "      <td>658</td>\n",
              "      <td>10727</td>\n",
              "      <td>5</td>\n",
              "      <td>5</td>\n",
              "      <td>5</td>\n",
              "      <td>555</td>\n",
              "    </tr>\n",
              "  </tbody>\n",
              "</table>\n",
              "</div>"
            ],
            "text/plain": [
              "             Recency  Frequency  Monetary RecencyScore FrequencyScore  \\\n",
              "Customer ID                                                             \n",
              "12415              9        212     19544            5              5   \n",
              "12431              7        173      4303            5              5   \n",
              "12433              0        287      7053            5              5   \n",
              "12471              6        767     19208            5              5   \n",
              "12472              3        658     10727            5              5   \n",
              "\n",
              "            MonetaryScore RFM_SCORE  \n",
              "Customer ID                          \n",
              "12415                   5       555  \n",
              "12431                   5       555  \n",
              "12433                   5       555  \n",
              "12471                   5       555  \n",
              "12472                   5       555  "
            ]
          },
          "execution_count": 55,
          "metadata": {},
          "output_type": "execute_result"
        }
      ],
      "source": [
        "rfm[rfm[\"RFM_SCORE\"] == \"555\"].head()"
      ]
    },
    {
      "cell_type": "markdown",
      "metadata": {
        "id": "Dw8ynrIWteRq"
      },
      "source": [
        "If we rank 1 point out of 3, that is, 111 ones are the lowest."
      ]
    },
    {
      "cell_type": "code",
      "execution_count": null,
      "metadata": {
        "id": "FbIMEJifteRu",
        "outputId": "f76341f6-ff53-4f72-a09e-b728cf42108e"
      },
      "outputs": [
        {
          "data": {
            "text/html": [
              "<div>\n",
              "<style scoped>\n",
              "    .dataframe tbody tr th:only-of-type {\n",
              "        vertical-align: middle;\n",
              "    }\n",
              "\n",
              "    .dataframe tbody tr th {\n",
              "        vertical-align: top;\n",
              "    }\n",
              "\n",
              "    .dataframe thead th {\n",
              "        text-align: right;\n",
              "    }\n",
              "</style>\n",
              "<table border=\"1\" class=\"dataframe\">\n",
              "  <thead>\n",
              "    <tr style=\"text-align: right;\">\n",
              "      <th></th>\n",
              "      <th>Recency</th>\n",
              "      <th>Frequency</th>\n",
              "      <th>Monetary</th>\n",
              "      <th>RecencyScore</th>\n",
              "      <th>FrequencyScore</th>\n",
              "      <th>MonetaryScore</th>\n",
              "      <th>RFM_SCORE</th>\n",
              "    </tr>\n",
              "    <tr>\n",
              "      <th>Customer ID</th>\n",
              "      <th></th>\n",
              "      <th></th>\n",
              "      <th></th>\n",
              "      <th></th>\n",
              "      <th></th>\n",
              "      <th></th>\n",
              "      <th></th>\n",
              "    </tr>\n",
              "  </thead>\n",
              "  <tbody>\n",
              "    <tr>\n",
              "      <th>12362</th>\n",
              "      <td>372</td>\n",
              "      <td>1</td>\n",
              "      <td>130</td>\n",
              "      <td>1</td>\n",
              "      <td>1</td>\n",
              "      <td>1</td>\n",
              "      <td>111</td>\n",
              "    </tr>\n",
              "    <tr>\n",
              "      <th>12382</th>\n",
              "      <td>316</td>\n",
              "      <td>1</td>\n",
              "      <td>-18</td>\n",
              "      <td>1</td>\n",
              "      <td>1</td>\n",
              "      <td>1</td>\n",
              "      <td>111</td>\n",
              "    </tr>\n",
              "    <tr>\n",
              "      <th>12404</th>\n",
              "      <td>316</td>\n",
              "      <td>1</td>\n",
              "      <td>63</td>\n",
              "      <td>1</td>\n",
              "      <td>1</td>\n",
              "      <td>1</td>\n",
              "      <td>111</td>\n",
              "    </tr>\n",
              "    <tr>\n",
              "      <th>12416</th>\n",
              "      <td>290</td>\n",
              "      <td>11</td>\n",
              "      <td>203</td>\n",
              "      <td>1</td>\n",
              "      <td>1</td>\n",
              "      <td>1</td>\n",
              "      <td>111</td>\n",
              "    </tr>\n",
              "    <tr>\n",
              "      <th>12466</th>\n",
              "      <td>316</td>\n",
              "      <td>1</td>\n",
              "      <td>57</td>\n",
              "      <td>1</td>\n",
              "      <td>1</td>\n",
              "      <td>1</td>\n",
              "      <td>111</td>\n",
              "    </tr>\n",
              "  </tbody>\n",
              "</table>\n",
              "</div>"
            ],
            "text/plain": [
              "             Recency  Frequency  Monetary RecencyScore FrequencyScore  \\\n",
              "Customer ID                                                             \n",
              "12362            372          1       130            1              1   \n",
              "12382            316          1       -18            1              1   \n",
              "12404            316          1        63            1              1   \n",
              "12416            290         11       203            1              1   \n",
              "12466            316          1        57            1              1   \n",
              "\n",
              "            MonetaryScore RFM_SCORE  \n",
              "Customer ID                          \n",
              "12362                   1       111  \n",
              "12382                   1       111  \n",
              "12404                   1       111  \n",
              "12416                   1       111  \n",
              "12466                   1       111  "
            ]
          },
          "execution_count": 56,
          "metadata": {},
          "output_type": "execute_result"
        }
      ],
      "source": [
        "rfm[rfm[\"RFM_SCORE\"] == \"111\"].head()"
      ]
    },
    {
      "cell_type": "markdown",
      "metadata": {
        "id": "RO6tA3qPteR-"
      },
      "source": [
        "Let's do regex segmentation. With the help of regex, we will set rfm aside and consider r and f.\n",
        "\n",
        "Example: If you see 1-2 in r and 1-2 in f, write 'Hibernating'"
      ]
    },
    {
      "cell_type": "code",
      "execution_count": null,
      "metadata": {
        "id": "YCjLr8mhteSG"
      },
      "outputs": [],
      "source": [
        "seg_map = {\n",
        "    r'[1-2][1-2]': 'Hibernating',\n",
        "    r'[1-2][3-4]': 'At Risk',\n",
        "    r'[1-2]5': 'Can\\'t Loose',\n",
        "    r'3[1-2]': 'About to Sleep',\n",
        "    r'33': 'Need Attention',\n",
        "    r'[3-4][4-5]': 'Loyal Customers',\n",
        "    r'41': 'Promising',\n",
        "    r'51': 'New Customers',\n",
        "    r'[4-5][2-3]': 'Potential Loyalists',\n",
        "    r'5[4-5]': 'Champions'\n",
        "}"
      ]
    },
    {
      "cell_type": "code",
      "execution_count": null,
      "metadata": {
        "id": "Um5KPOF9teSH",
        "outputId": "087a0ea2-6acf-4565-8d8e-11d0a9855106"
      },
      "outputs": [
        {
          "data": {
            "text/html": [
              "<div>\n",
              "<style scoped>\n",
              "    .dataframe tbody tr th:only-of-type {\n",
              "        vertical-align: middle;\n",
              "    }\n",
              "\n",
              "    .dataframe tbody tr th {\n",
              "        vertical-align: top;\n",
              "    }\n",
              "\n",
              "    .dataframe thead th {\n",
              "        text-align: right;\n",
              "    }\n",
              "</style>\n",
              "<table border=\"1\" class=\"dataframe\">\n",
              "  <thead>\n",
              "    <tr style=\"text-align: right;\">\n",
              "      <th></th>\n",
              "      <th>Recency</th>\n",
              "      <th>Frequency</th>\n",
              "      <th>Monetary</th>\n",
              "      <th>RecencyScore</th>\n",
              "      <th>FrequencyScore</th>\n",
              "      <th>MonetaryScore</th>\n",
              "      <th>RFM_SCORE</th>\n",
              "      <th>Segment</th>\n",
              "    </tr>\n",
              "    <tr>\n",
              "      <th>Customer ID</th>\n",
              "      <th></th>\n",
              "      <th></th>\n",
              "      <th></th>\n",
              "      <th></th>\n",
              "      <th></th>\n",
              "      <th></th>\n",
              "      <th></th>\n",
              "      <th></th>\n",
              "    </tr>\n",
              "  </thead>\n",
              "  <tbody>\n",
              "    <tr>\n",
              "      <th>12346</th>\n",
              "      <td>65</td>\n",
              "      <td>46</td>\n",
              "      <td>-65</td>\n",
              "      <td>3</td>\n",
              "      <td>3</td>\n",
              "      <td>1</td>\n",
              "      <td>331</td>\n",
              "      <td>Need Attention</td>\n",
              "    </tr>\n",
              "    <tr>\n",
              "      <th>12347</th>\n",
              "      <td>1</td>\n",
              "      <td>71</td>\n",
              "      <td>1323</td>\n",
              "      <td>5</td>\n",
              "      <td>4</td>\n",
              "      <td>4</td>\n",
              "      <td>544</td>\n",
              "      <td>Champions</td>\n",
              "    </tr>\n",
              "    <tr>\n",
              "      <th>12348</th>\n",
              "      <td>72</td>\n",
              "      <td>20</td>\n",
              "      <td>222</td>\n",
              "      <td>2</td>\n",
              "      <td>2</td>\n",
              "      <td>1</td>\n",
              "      <td>221</td>\n",
              "      <td>Hibernating</td>\n",
              "    </tr>\n",
              "    <tr>\n",
              "      <th>12349</th>\n",
              "      <td>41</td>\n",
              "      <td>107</td>\n",
              "      <td>2647</td>\n",
              "      <td>3</td>\n",
              "      <td>4</td>\n",
              "      <td>5</td>\n",
              "      <td>345</td>\n",
              "      <td>Loyal Customers</td>\n",
              "    </tr>\n",
              "    <tr>\n",
              "      <th>12351</th>\n",
              "      <td>9</td>\n",
              "      <td>21</td>\n",
              "      <td>301</td>\n",
              "      <td>5</td>\n",
              "      <td>2</td>\n",
              "      <td>2</td>\n",
              "      <td>522</td>\n",
              "      <td>Potential Loyalists</td>\n",
              "    </tr>\n",
              "  </tbody>\n",
              "</table>\n",
              "</div>"
            ],
            "text/plain": [
              "             Recency  Frequency  Monetary RecencyScore FrequencyScore  \\\n",
              "Customer ID                                                             \n",
              "12346             65         46       -65            3              3   \n",
              "12347              1         71      1323            5              4   \n",
              "12348             72         20       222            2              2   \n",
              "12349             41        107      2647            3              4   \n",
              "12351              9         21       301            5              2   \n",
              "\n",
              "            MonetaryScore RFM_SCORE              Segment  \n",
              "Customer ID                                               \n",
              "12346                   1       331       Need Attention  \n",
              "12347                   4       544            Champions  \n",
              "12348                   1       221          Hibernating  \n",
              "12349                   5       345      Loyal Customers  \n",
              "12351                   2       522  Potential Loyalists  "
            ]
          },
          "execution_count": 58,
          "metadata": {},
          "output_type": "execute_result"
        }
      ],
      "source": [
        "rfm['Segment'] = rfm['RecencyScore'].astype(str) + rfm['FrequencyScore'].astype(str)\n",
        "rfm['Segment'] = rfm['Segment'].replace(seg_map, regex=True)\n",
        "rfm.head()"
      ]
    },
    {
      "cell_type": "code",
      "execution_count": null,
      "metadata": {
        "id": "q_B_bzrjteSI",
        "outputId": "baa49ade-99ff-457c-8cee-3a330136c8d5"
      },
      "outputs": [
        {
          "data": {
            "text/html": [
              "<div>\n",
              "<style scoped>\n",
              "    .dataframe tbody tr th:only-of-type {\n",
              "        vertical-align: middle;\n",
              "    }\n",
              "\n",
              "    .dataframe tbody tr th {\n",
              "        vertical-align: top;\n",
              "    }\n",
              "\n",
              "    .dataframe thead tr th {\n",
              "        text-align: left;\n",
              "    }\n",
              "\n",
              "    .dataframe thead tr:last-of-type th {\n",
              "        text-align: right;\n",
              "    }\n",
              "</style>\n",
              "<table border=\"1\" class=\"dataframe\">\n",
              "  <thead>\n",
              "    <tr>\n",
              "      <th></th>\n",
              "      <th colspan=\"2\" halign=\"left\">Recency</th>\n",
              "      <th colspan=\"2\" halign=\"left\">Frequency</th>\n",
              "      <th colspan=\"2\" halign=\"left\">Monetary</th>\n",
              "    </tr>\n",
              "    <tr>\n",
              "      <th></th>\n",
              "      <th>mean</th>\n",
              "      <th>count</th>\n",
              "      <th>mean</th>\n",
              "      <th>count</th>\n",
              "      <th>mean</th>\n",
              "      <th>count</th>\n",
              "    </tr>\n",
              "    <tr>\n",
              "      <th>Segment</th>\n",
              "      <th></th>\n",
              "      <th></th>\n",
              "      <th></th>\n",
              "      <th></th>\n",
              "      <th></th>\n",
              "      <th></th>\n",
              "    </tr>\n",
              "  </thead>\n",
              "  <tbody>\n",
              "    <tr>\n",
              "      <th>About to Sleep</th>\n",
              "      <td>51</td>\n",
              "      <td>346</td>\n",
              "      <td>15</td>\n",
              "      <td>346</td>\n",
              "      <td>383</td>\n",
              "      <td>346</td>\n",
              "    </tr>\n",
              "    <tr>\n",
              "      <th>At Risk</th>\n",
              "      <td>161</td>\n",
              "      <td>620</td>\n",
              "      <td>59</td>\n",
              "      <td>620</td>\n",
              "      <td>1062</td>\n",
              "      <td>620</td>\n",
              "    </tr>\n",
              "    <tr>\n",
              "      <th>Can't Loose</th>\n",
              "      <td>121</td>\n",
              "      <td>94</td>\n",
              "      <td>228</td>\n",
              "      <td>94</td>\n",
              "      <td>2876</td>\n",
              "      <td>94</td>\n",
              "    </tr>\n",
              "    <tr>\n",
              "      <th>Champions</th>\n",
              "      <td>5</td>\n",
              "      <td>667</td>\n",
              "      <td>272</td>\n",
              "      <td>667</td>\n",
              "      <td>6534</td>\n",
              "      <td>667</td>\n",
              "    </tr>\n",
              "    <tr>\n",
              "      <th>Hibernating</th>\n",
              "      <td>209</td>\n",
              "      <td>1024</td>\n",
              "      <td>13</td>\n",
              "      <td>1024</td>\n",
              "      <td>276</td>\n",
              "      <td>1024</td>\n",
              "    </tr>\n",
              "    <tr>\n",
              "      <th>Loyal Customers</th>\n",
              "      <td>35</td>\n",
              "      <td>768</td>\n",
              "      <td>170</td>\n",
              "      <td>768</td>\n",
              "      <td>2533</td>\n",
              "      <td>768</td>\n",
              "    </tr>\n",
              "    <tr>\n",
              "      <th>Need Attention</th>\n",
              "      <td>50</td>\n",
              "      <td>167</td>\n",
              "      <td>46</td>\n",
              "      <td>167</td>\n",
              "      <td>857</td>\n",
              "      <td>167</td>\n",
              "    </tr>\n",
              "    <tr>\n",
              "      <th>New Customers</th>\n",
              "      <td>6</td>\n",
              "      <td>65</td>\n",
              "      <td>7</td>\n",
              "      <td>65</td>\n",
              "      <td>441</td>\n",
              "      <td>65</td>\n",
              "    </tr>\n",
              "    <tr>\n",
              "      <th>Potential Loyalists</th>\n",
              "      <td>16</td>\n",
              "      <td>534</td>\n",
              "      <td>37</td>\n",
              "      <td>534</td>\n",
              "      <td>910</td>\n",
              "      <td>534</td>\n",
              "    </tr>\n",
              "    <tr>\n",
              "      <th>Promising</th>\n",
              "      <td>23</td>\n",
              "      <td>98</td>\n",
              "      <td>8</td>\n",
              "      <td>98</td>\n",
              "      <td>436</td>\n",
              "      <td>98</td>\n",
              "    </tr>\n",
              "  </tbody>\n",
              "</table>\n",
              "</div>"
            ],
            "text/plain": [
              "                    Recency       Frequency       Monetary      \n",
              "                       mean count      mean count     mean count\n",
              "Segment                                                         \n",
              "About to Sleep           51   346        15   346      383   346\n",
              "At Risk                 161   620        59   620     1062   620\n",
              "Can't Loose             121    94       228    94     2876    94\n",
              "Champions                 5   667       272   667     6534   667\n",
              "Hibernating             209  1024        13  1024      276  1024\n",
              "Loyal Customers          35   768       170   768     2533   768\n",
              "Need Attention           50   167        46   167      857   167\n",
              "New Customers             6    65         7    65      441    65\n",
              "Potential Loyalists      16   534        37   534      910   534\n",
              "Promising                23    98         8    98      436    98"
            ]
          },
          "execution_count": 59,
          "metadata": {},
          "output_type": "execute_result"
        }
      ],
      "source": [
        "rfm[[\"Segment\", \"Recency\",\"Frequency\",\"Monetary\"]].groupby(\"Segment\").agg([\"mean\",\"count\"])"
      ]
    },
    {
      "cell_type": "markdown",
      "metadata": {
        "id": "1rP7hUZ9teSL"
      },
      "source": [
        "## If we need to comment, let's make an example of champions.\n",
        "\n",
        "- Recency is the last 666 number of shopping last 5,\n",
        "- Frequency average of 272 out of 666 how much shopping it makes,\n",
        "- Monetary has spent an average of 6533 currencies over 666 shoppers."
      ]
    },
    {
      "cell_type": "markdown",
      "metadata": {
        "id": "T2gR31jKteSM"
      },
      "source": [
        "Now, let's choose the class (Need Attention) that needs attention.\n",
        "If we make strategy evaluations: you can take their \"Customer ID\" and keep it in excel, send sales department and prepare a campaign for them and make it more efficient."
      ]
    },
    {
      "cell_type": "code",
      "execution_count": null,
      "metadata": {
        "id": "jTbcTu6mteSM",
        "outputId": "93bb7bee-36c8-4729-a927-4cca72d4ddad"
      },
      "outputs": [
        {
          "data": {
            "text/html": [
              "<div>\n",
              "<style scoped>\n",
              "    .dataframe tbody tr th:only-of-type {\n",
              "        vertical-align: middle;\n",
              "    }\n",
              "\n",
              "    .dataframe tbody tr th {\n",
              "        vertical-align: top;\n",
              "    }\n",
              "\n",
              "    .dataframe thead th {\n",
              "        text-align: right;\n",
              "    }\n",
              "</style>\n",
              "<table border=\"1\" class=\"dataframe\">\n",
              "  <thead>\n",
              "    <tr style=\"text-align: right;\">\n",
              "      <th></th>\n",
              "      <th>Recency</th>\n",
              "      <th>Frequency</th>\n",
              "      <th>Monetary</th>\n",
              "      <th>RecencyScore</th>\n",
              "      <th>FrequencyScore</th>\n",
              "      <th>MonetaryScore</th>\n",
              "      <th>RFM_SCORE</th>\n",
              "      <th>Segment</th>\n",
              "    </tr>\n",
              "    <tr>\n",
              "      <th>Customer ID</th>\n",
              "      <th></th>\n",
              "      <th></th>\n",
              "      <th></th>\n",
              "      <th></th>\n",
              "      <th></th>\n",
              "      <th></th>\n",
              "      <th></th>\n",
              "      <th></th>\n",
              "    </tr>\n",
              "  </thead>\n",
              "  <tbody>\n",
              "    <tr>\n",
              "      <th>12346</th>\n",
              "      <td>65</td>\n",
              "      <td>46</td>\n",
              "      <td>-65</td>\n",
              "      <td>3</td>\n",
              "      <td>3</td>\n",
              "      <td>1</td>\n",
              "      <td>331</td>\n",
              "      <td>Need Attention</td>\n",
              "    </tr>\n",
              "    <tr>\n",
              "      <th>12374</th>\n",
              "      <td>55</td>\n",
              "      <td>50</td>\n",
              "      <td>2246</td>\n",
              "      <td>3</td>\n",
              "      <td>3</td>\n",
              "      <td>5</td>\n",
              "      <td>335</td>\n",
              "      <td>Need Attention</td>\n",
              "    </tr>\n",
              "    <tr>\n",
              "      <th>12379</th>\n",
              "      <td>56</td>\n",
              "      <td>41</td>\n",
              "      <td>768</td>\n",
              "      <td>3</td>\n",
              "      <td>3</td>\n",
              "      <td>3</td>\n",
              "      <td>333</td>\n",
              "      <td>Need Attention</td>\n",
              "    </tr>\n",
              "    <tr>\n",
              "      <th>12389</th>\n",
              "      <td>36</td>\n",
              "      <td>49</td>\n",
              "      <td>1433</td>\n",
              "      <td>3</td>\n",
              "      <td>3</td>\n",
              "      <td>4</td>\n",
              "      <td>334</td>\n",
              "      <td>Need Attention</td>\n",
              "    </tr>\n",
              "    <tr>\n",
              "      <th>12425</th>\n",
              "      <td>64</td>\n",
              "      <td>59</td>\n",
              "      <td>904</td>\n",
              "      <td>3</td>\n",
              "      <td>3</td>\n",
              "      <td>3</td>\n",
              "      <td>333</td>\n",
              "      <td>Need Attention</td>\n",
              "    </tr>\n",
              "  </tbody>\n",
              "</table>\n",
              "</div>"
            ],
            "text/plain": [
              "             Recency  Frequency  Monetary RecencyScore FrequencyScore  \\\n",
              "Customer ID                                                             \n",
              "12346             65         46       -65            3              3   \n",
              "12374             55         50      2246            3              3   \n",
              "12379             56         41       768            3              3   \n",
              "12389             36         49      1433            3              3   \n",
              "12425             64         59       904            3              3   \n",
              "\n",
              "            MonetaryScore RFM_SCORE         Segment  \n",
              "Customer ID                                          \n",
              "12346                   1       331  Need Attention  \n",
              "12374                   5       335  Need Attention  \n",
              "12379                   3       333  Need Attention  \n",
              "12389                   4       334  Need Attention  \n",
              "12425                   3       333  Need Attention  "
            ]
          },
          "execution_count": 60,
          "metadata": {},
          "output_type": "execute_result"
        }
      ],
      "source": [
        "rfm[rfm[\"Segment\"] == \"Need Attention\"].head()"
      ]
    },
    {
      "cell_type": "markdown",
      "metadata": {
        "id": "22EB-kBzteSO"
      },
      "source": [
        "## 14. Finally, create an excel file named New Customer."
      ]
    },
    {
      "cell_type": "code",
      "execution_count": null,
      "metadata": {
        "id": "msfe0L5tteSP",
        "outputId": "adc7c63f-b912-4f53-b6da-7b8ed3be2f85"
      },
      "outputs": [
        {
          "data": {
            "text/plain": [
              "Int64Index([12386, 12427, 12441, 12538, 12686, 12738, 13010, 13011, 13029,\n",
              "            13094, 13145, 13254, 13258, 13270, 13369, 13747, 13848, 14119,\n",
              "            14213, 14306, 14491, 14576, 14589, 14865, 14987, 15018, 15181,\n",
              "            15212, 15299, 15304, 15649, 15728, 15899, 15914, 15922, 15973,\n",
              "            16194, 16473, 16545, 16552, 16711, 16752, 16988, 16995, 17026,\n",
              "            17170, 17181, 17262, 17281, 17339, 17378, 17468, 17556, 17616,\n",
              "            17674, 17723, 17857, 17870, 17924, 17925, 17951, 18084, 18113,\n",
              "            18161, 18269],\n",
              "           dtype='int64', name='Customer ID')"
            ]
          },
          "execution_count": 61,
          "metadata": {},
          "output_type": "execute_result"
        }
      ],
      "source": [
        "rfm[rfm[\"Segment\"] == \"New Customers\"].index"
      ]
    },
    {
      "cell_type": "code",
      "execution_count": null,
      "metadata": {
        "id": "maDuF_jzteSP"
      },
      "outputs": [],
      "source": [
        "new_df = pd.DataFrame()\n",
        "new_df[\"NewCustomerID\"] = rfm[rfm[\"Segment\"] == \"New Customers\"].index"
      ]
    },
    {
      "cell_type": "code",
      "execution_count": null,
      "metadata": {
        "id": "pFdP8Ej6teWF",
        "outputId": "f0e16ba4-8bed-4702-8c71-5d05a73301b4"
      },
      "outputs": [
        {
          "data": {
            "text/html": [
              "<div>\n",
              "<style scoped>\n",
              "    .dataframe tbody tr th:only-of-type {\n",
              "        vertical-align: middle;\n",
              "    }\n",
              "\n",
              "    .dataframe tbody tr th {\n",
              "        vertical-align: top;\n",
              "    }\n",
              "\n",
              "    .dataframe thead th {\n",
              "        text-align: right;\n",
              "    }\n",
              "</style>\n",
              "<table border=\"1\" class=\"dataframe\">\n",
              "  <thead>\n",
              "    <tr style=\"text-align: right;\">\n",
              "      <th></th>\n",
              "      <th>NewCustomerID</th>\n",
              "    </tr>\n",
              "  </thead>\n",
              "  <tbody>\n",
              "    <tr>\n",
              "      <th>0</th>\n",
              "      <td>12386</td>\n",
              "    </tr>\n",
              "    <tr>\n",
              "      <th>1</th>\n",
              "      <td>12427</td>\n",
              "    </tr>\n",
              "    <tr>\n",
              "      <th>2</th>\n",
              "      <td>12441</td>\n",
              "    </tr>\n",
              "    <tr>\n",
              "      <th>3</th>\n",
              "      <td>12538</td>\n",
              "    </tr>\n",
              "    <tr>\n",
              "      <th>4</th>\n",
              "      <td>12686</td>\n",
              "    </tr>\n",
              "  </tbody>\n",
              "</table>\n",
              "</div>"
            ],
            "text/plain": [
              "   NewCustomerID\n",
              "0          12386\n",
              "1          12427\n",
              "2          12441\n",
              "3          12538\n",
              "4          12686"
            ]
          },
          "execution_count": 63,
          "metadata": {},
          "output_type": "execute_result"
        }
      ],
      "source": [
        "new_df.head()"
      ]
    },
    {
      "cell_type": "code",
      "execution_count": null,
      "metadata": {
        "id": "3wBsJ3FAteWG"
      },
      "outputs": [],
      "source": [
        "new_df.to_csv(\"new_customers.csv\")"
      ]
    }
  ],
  "metadata": {
    "kernelspec": {
      "display_name": "Python 3",
      "language": "python",
      "name": "python3"
    },
    "language_info": {
      "codemirror_mode": {
        "name": "ipython",
        "version": 3
      },
      "file_extension": ".py",
      "mimetype": "text/x-python",
      "name": "python",
      "nbconvert_exporter": "python",
      "pygments_lexer": "ipython3",
      "version": "3.7.6"
    },
    "colab": {
      "name": "Customer Segmentation(Part2).ipynb",
      "provenance": []
    }
  },
  "nbformat": 4,
  "nbformat_minor": 0
}